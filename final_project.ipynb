{
 "cells": [
  {
   "cell_type": "markdown",
   "metadata": {
    "id": "9yVbDWvuBQYX"
   },
   "source": [
    "# 1.&nbsp;Расчёт retention\n",
    "\n",
    "Напишем функцию расчёта retention игроков компьютерной игры (по дням от даты регистрации игрока)."
   ]
  },
  {
   "cell_type": "markdown",
   "metadata": {
    "id": "vFPqR9GAxLbB"
   },
   "source": [
    "## 1.1.&nbsp;Загрузка данных и разведочный анализ"
   ]
  },
  {
   "cell_type": "code",
   "execution_count": 1,
   "metadata": {
    "id": "oy-p59xCFFGk"
   },
   "outputs": [],
   "source": [
    "import pandas as pd\n",
    "import numpy as np\n",
    "from datetime import datetime\n",
    "from dateutil.relativedelta import *\n",
    "import seaborn as sns\n",
    "import scipy.stats as sps"
   ]
  },
  {
   "cell_type": "code",
   "execution_count": 2,
   "metadata": {
    "colab": {
     "base_uri": "https://localhost:8080/"
    },
    "id": "U6bRSy10pbP_",
    "outputId": "f3be64c7-0ef5-414e-ff86-0278133efbbb"
   },
   "outputs": [
    {
     "name": "stdout",
     "output_type": "stream",
     "text": [
      "Defaulting to user installation because normal site-packages is not writeable\n",
      "Requirement already satisfied: pingouin in /opt/tljh/user/lib/python3.7/site-packages (0.4.0)\n",
      "Requirement already satisfied: pandas-flavor>=0.2.0 in /opt/tljh/user/lib/python3.7/site-packages (from pingouin) (0.2.0)\n",
      "Requirement already satisfied: seaborn>=0.9.0 in /opt/tljh/user/lib/python3.7/site-packages (from pingouin) (0.11.1)\n",
      "Requirement already satisfied: tabulate in /opt/tljh/user/lib/python3.7/site-packages (from pingouin) (0.8.7)\n",
      "Requirement already satisfied: pandas>=1.0 in /opt/tljh/user/lib/python3.7/site-packages (from pingouin) (1.1.2)\n",
      "Requirement already satisfied: scipy>=1.7 in /opt/tljh/user/lib/python3.7/site-packages (from pingouin) (1.7.1)\n",
      "Requirement already satisfied: scikit-learn in /opt/tljh/user/lib/python3.7/site-packages (from pingouin) (0.23.2)\n",
      "Requirement already satisfied: statsmodels>=0.12.0 in /opt/tljh/user/lib/python3.7/site-packages (from pingouin) (0.13.0)\n",
      "Requirement already satisfied: outdated in /opt/tljh/user/lib/python3.7/site-packages (from pingouin) (0.2.1)\n",
      "Requirement already satisfied: matplotlib>=3.0.2 in /opt/tljh/user/lib/python3.7/site-packages (from pingouin) (3.2.1)\n",
      "Requirement already satisfied: numpy>=1.19 in /opt/tljh/user/lib/python3.7/site-packages (from pingouin) (1.21.2)\n",
      "Requirement already satisfied: pyparsing!=2.0.4,!=2.1.2,!=2.1.6,>=2.0.1 in /opt/tljh/user/lib/python3.7/site-packages (from matplotlib>=3.0.2->pingouin) (2.4.7)\n",
      "Requirement already satisfied: cycler>=0.10 in /opt/tljh/user/lib/python3.7/site-packages (from matplotlib>=3.0.2->pingouin) (0.10.0)\n",
      "Requirement already satisfied: python-dateutil>=2.1 in /opt/tljh/user/lib/python3.7/site-packages (from matplotlib>=3.0.2->pingouin) (2.8.1)\n",
      "Requirement already satisfied: kiwisolver>=1.0.1 in /opt/tljh/user/lib/python3.7/site-packages (from matplotlib>=3.0.2->pingouin) (1.2.0)\n",
      "Requirement already satisfied: six in /opt/tljh/user/lib/python3.7/site-packages (from cycler>=0.10->matplotlib>=3.0.2->pingouin) (1.12.0)\n",
      "Requirement already satisfied: pytz>=2017.2 in /opt/tljh/user/lib/python3.7/site-packages (from pandas>=1.0->pingouin) (2020.1)\n",
      "Requirement already satisfied: xarray in /opt/tljh/user/lib/python3.7/site-packages (from pandas-flavor>=0.2.0->pingouin) (0.19.0)\n",
      "Requirement already satisfied: patsy>=0.5.2 in /opt/tljh/user/lib/python3.7/site-packages (from statsmodels>=0.12.0->pingouin) (0.5.2)\n",
      "Requirement already satisfied: requests in /opt/tljh/user/lib/python3.7/site-packages (from outdated->pingouin) (2.22.0)\n",
      "Requirement already satisfied: littleutils in /opt/tljh/user/lib/python3.7/site-packages (from outdated->pingouin) (0.2.2)\n",
      "Requirement already satisfied: idna<2.9,>=2.5 in /opt/tljh/user/lib/python3.7/site-packages (from requests->outdated->pingouin) (2.8)\n",
      "Requirement already satisfied: certifi>=2017.4.17 in /opt/tljh/user/lib/python3.7/site-packages (from requests->outdated->pingouin) (2020.4.5.1)\n",
      "Requirement already satisfied: urllib3!=1.25.0,!=1.25.1,<1.26,>=1.21.1 in /opt/tljh/user/lib/python3.7/site-packages (from requests->outdated->pingouin) (1.24.2)\n",
      "Requirement already satisfied: chardet<3.1.0,>=3.0.2 in /opt/tljh/user/lib/python3.7/site-packages (from requests->outdated->pingouin) (3.0.4)\n",
      "Requirement already satisfied: joblib>=0.11 in /opt/tljh/user/lib/python3.7/site-packages (from scikit-learn->pingouin) (0.15.1)\n",
      "Requirement already satisfied: threadpoolctl>=2.0.0 in /opt/tljh/user/lib/python3.7/site-packages (from scikit-learn->pingouin) (2.1.0)\n",
      "Requirement already satisfied: setuptools>=40.4 in /opt/tljh/user/lib/python3.7/site-packages (from xarray->pandas-flavor>=0.2.0->pingouin) (41.0.1)\n",
      "\u001b[33mWARNING: You are using pip version 21.2.4; however, version 23.2.1 is available.\n",
      "You should consider upgrading via the '/opt/tljh/user/bin/python -m pip install --upgrade pip' command.\u001b[0m\n"
     ]
    }
   ],
   "source": [
    "!pip install pingouin"
   ]
  },
  {
   "cell_type": "code",
   "execution_count": 3,
   "metadata": {
    "id": "hlGEZO8qpavt"
   },
   "outputs": [],
   "source": [
    "import pingouin as pg"
   ]
  },
  {
   "cell_type": "code",
   "execution_count": 4,
   "metadata": {
    "colab": {
     "base_uri": "https://localhost:8080/",
     "height": 206
    },
    "id": "c_Vw9RoHE6FN",
    "outputId": "fb90cd76-0af1-4ebf-b45a-0b81fa44ab33"
   },
   "outputs": [
    {
     "name": "stderr",
     "output_type": "stream",
     "text": [
      "/opt/tljh/user/lib/python3.7/site-packages/outdated/utils.py:18: OutdatedCacheFailedWarning: Failed to use cache while checking for outdated package.\n",
      "Set the environment variable OUTDATED_RAISE_EXCEPTION=1 for a full traceback.\n",
      "Set the environment variable OUTDATED_IGNORE=1 to disable these warnings.\n",
      "  **kwargs\n",
      "/opt/tljh/user/lib/python3.7/site-packages/outdated/utils.py:18: OutdatedPackageWarning: The package outdated is out of date. Your version is 0.2.1, the latest is 0.2.2.\n",
      "Set the environment variable OUTDATED_IGNORE=1 to disable these warnings.\n",
      "  **kwargs\n",
      "/opt/tljh/user/lib/python3.7/site-packages/outdated/utils.py:18: OutdatedPackageWarning: The package pingouin is out of date. Your version is 0.4.0, the latest is 0.5.3.\n",
      "Set the environment variable OUTDATED_IGNORE=1 to disable these warnings.\n",
      "  **kwargs\n"
     ]
    },
    {
     "data": {
      "text/html": [
       "<div>\n",
       "<style scoped>\n",
       "    .dataframe tbody tr th:only-of-type {\n",
       "        vertical-align: middle;\n",
       "    }\n",
       "\n",
       "    .dataframe tbody tr th {\n",
       "        vertical-align: top;\n",
       "    }\n",
       "\n",
       "    .dataframe thead th {\n",
       "        text-align: right;\n",
       "    }\n",
       "</style>\n",
       "<table border=\"1\" class=\"dataframe\">\n",
       "  <thead>\n",
       "    <tr style=\"text-align: right;\">\n",
       "      <th></th>\n",
       "      <th>reg_ts</th>\n",
       "      <th>uid</th>\n",
       "    </tr>\n",
       "  </thead>\n",
       "  <tbody>\n",
       "    <tr>\n",
       "      <th>0</th>\n",
       "      <td>911382223</td>\n",
       "      <td>1</td>\n",
       "    </tr>\n",
       "    <tr>\n",
       "      <th>1</th>\n",
       "      <td>932683089</td>\n",
       "      <td>2</td>\n",
       "    </tr>\n",
       "    <tr>\n",
       "      <th>2</th>\n",
       "      <td>947802447</td>\n",
       "      <td>3</td>\n",
       "    </tr>\n",
       "    <tr>\n",
       "      <th>3</th>\n",
       "      <td>959523541</td>\n",
       "      <td>4</td>\n",
       "    </tr>\n",
       "    <tr>\n",
       "      <th>4</th>\n",
       "      <td>969103313</td>\n",
       "      <td>5</td>\n",
       "    </tr>\n",
       "  </tbody>\n",
       "</table>\n",
       "</div>"
      ],
      "text/plain": [
       "      reg_ts  uid\n",
       "0  911382223    1\n",
       "1  932683089    2\n",
       "2  947802447    3\n",
       "3  959523541    4\n",
       "4  969103313    5"
      ]
     },
     "execution_count": 4,
     "metadata": {},
     "output_type": "execute_result"
    }
   ],
   "source": [
    "dfr = pd.read_csv('~/shared/problem1-reg_data.csv', sep=';')\n",
    "dfr.head()"
   ]
  },
  {
   "cell_type": "code",
   "execution_count": 5,
   "metadata": {
    "colab": {
     "base_uri": "https://localhost:8080/",
     "height": 206
    },
    "id": "NRJzzlX6GKO7",
    "outputId": "aa7931f5-4695-47a6-99c4-2de0b35beeaa"
   },
   "outputs": [
    {
     "data": {
      "text/html": [
       "<div>\n",
       "<style scoped>\n",
       "    .dataframe tbody tr th:only-of-type {\n",
       "        vertical-align: middle;\n",
       "    }\n",
       "\n",
       "    .dataframe tbody tr th {\n",
       "        vertical-align: top;\n",
       "    }\n",
       "\n",
       "    .dataframe thead th {\n",
       "        text-align: right;\n",
       "    }\n",
       "</style>\n",
       "<table border=\"1\" class=\"dataframe\">\n",
       "  <thead>\n",
       "    <tr style=\"text-align: right;\">\n",
       "      <th></th>\n",
       "      <th>auth_ts</th>\n",
       "      <th>uid</th>\n",
       "    </tr>\n",
       "  </thead>\n",
       "  <tbody>\n",
       "    <tr>\n",
       "      <th>0</th>\n",
       "      <td>911382223</td>\n",
       "      <td>1</td>\n",
       "    </tr>\n",
       "    <tr>\n",
       "      <th>1</th>\n",
       "      <td>932683089</td>\n",
       "      <td>2</td>\n",
       "    </tr>\n",
       "    <tr>\n",
       "      <th>2</th>\n",
       "      <td>932921206</td>\n",
       "      <td>2</td>\n",
       "    </tr>\n",
       "    <tr>\n",
       "      <th>3</th>\n",
       "      <td>933393015</td>\n",
       "      <td>2</td>\n",
       "    </tr>\n",
       "    <tr>\n",
       "      <th>4</th>\n",
       "      <td>933875379</td>\n",
       "      <td>2</td>\n",
       "    </tr>\n",
       "  </tbody>\n",
       "</table>\n",
       "</div>"
      ],
      "text/plain": [
       "     auth_ts  uid\n",
       "0  911382223    1\n",
       "1  932683089    2\n",
       "2  932921206    2\n",
       "3  933393015    2\n",
       "4  933875379    2"
      ]
     },
     "execution_count": 5,
     "metadata": {},
     "output_type": "execute_result"
    }
   ],
   "source": [
    "dfa = pd.read_csv('~/shared/problem1-auth_data.csv', sep=';')\n",
    "dfa.head()"
   ]
  },
  {
   "cell_type": "markdown",
   "metadata": {
    "id": "QbwKKI4h5Mkl"
   },
   "source": [
    "Проверим типы данных."
   ]
  },
  {
   "cell_type": "code",
   "execution_count": 6,
   "metadata": {
    "colab": {
     "base_uri": "https://localhost:8080/"
    },
    "id": "qlJY45jz5cn7",
    "outputId": "6f9ad967-b15f-43e7-ca8a-d14787642b88"
   },
   "outputs": [
    {
     "name": "stdout",
     "output_type": "stream",
     "text": [
      "<class 'pandas.core.frame.DataFrame'>\n",
      "RangeIndex: 1000000 entries, 0 to 999999\n",
      "Data columns (total 2 columns):\n",
      " #   Column  Non-Null Count    Dtype\n",
      "---  ------  --------------    -----\n",
      " 0   reg_ts  1000000 non-null  int64\n",
      " 1   uid     1000000 non-null  int64\n",
      "dtypes: int64(2)\n",
      "memory usage: 15.3 MB\n"
     ]
    }
   ],
   "source": [
    "dfr.info()"
   ]
  },
  {
   "cell_type": "code",
   "execution_count": 7,
   "metadata": {
    "colab": {
     "base_uri": "https://localhost:8080/"
    },
    "id": "D_SDxTpSGR0Y",
    "outputId": "0c54eb6d-ec02-4c0d-f556-8e199a6df6d4"
   },
   "outputs": [
    {
     "name": "stdout",
     "output_type": "stream",
     "text": [
      "<class 'pandas.core.frame.DataFrame'>\n",
      "RangeIndex: 9601013 entries, 0 to 9601012\n",
      "Data columns (total 2 columns):\n",
      " #   Column   Dtype\n",
      "---  ------   -----\n",
      " 0   auth_ts  int64\n",
      " 1   uid      int64\n",
      "dtypes: int64(2)\n",
      "memory usage: 146.5 MB\n"
     ]
    }
   ],
   "source": [
    "dfa.info()"
   ]
  },
  {
   "cell_type": "markdown",
   "metadata": {
    "id": "d8Tmeptq7DZc"
   },
   "source": [
    "Время записано в виде unix-timestamp. Преобразование в дату будем выполнять непосредственно в самой функции расчёта retention."
   ]
  },
  {
   "cell_type": "markdown",
   "metadata": {
    "id": "aJ-zarm55fkj"
   },
   "source": [
    "Пропущенных значений нет."
   ]
  },
  {
   "cell_type": "code",
   "execution_count": 8,
   "metadata": {
    "colab": {
     "base_uri": "https://localhost:8080/"
    },
    "id": "Ct7v3JSq5kTM",
    "outputId": "dffbba8b-fac3-4c0a-a1fa-188945c0bb2f"
   },
   "outputs": [
    {
     "data": {
      "text/plain": [
       "reg_ts    0\n",
       "uid       0\n",
       "dtype: int64"
      ]
     },
     "execution_count": 8,
     "metadata": {},
     "output_type": "execute_result"
    }
   ],
   "source": [
    "dfr.isna().sum()"
   ]
  },
  {
   "cell_type": "code",
   "execution_count": 9,
   "metadata": {
    "colab": {
     "base_uri": "https://localhost:8080/"
    },
    "id": "Xqx5MF1F5mBQ",
    "outputId": "042bf98e-b6ab-4c5c-a8fd-aba9a3feed80"
   },
   "outputs": [
    {
     "data": {
      "text/plain": [
       "auth_ts    0\n",
       "uid        0\n",
       "dtype: int64"
      ]
     },
     "execution_count": 9,
     "metadata": {},
     "output_type": "execute_result"
    }
   ],
   "source": [
    "dfa.isna().sum()"
   ]
  },
  {
   "cell_type": "markdown",
   "metadata": {
    "id": "ijPUMCMZ6Hg-"
   },
   "source": [
    "Посмотрим на границы временного диапазона."
   ]
  },
  {
   "cell_type": "code",
   "execution_count": 10,
   "metadata": {
    "colab": {
     "base_uri": "https://localhost:8080/"
    },
    "id": "FM9vsMcu6N5B",
    "outputId": "3603da73-3cc6-4f7e-ca3e-5c05fa7117b2"
   },
   "outputs": [
    {
     "data": {
      "text/plain": [
       "datetime.date(1998, 11, 18)"
      ]
     },
     "execution_count": 10,
     "metadata": {},
     "output_type": "execute_result"
    }
   ],
   "source": [
    "pd.to_datetime(dfr.reg_ts, unit='s').dt.date.min()"
   ]
  },
  {
   "cell_type": "code",
   "execution_count": 11,
   "metadata": {
    "colab": {
     "base_uri": "https://localhost:8080/"
    },
    "id": "yIFzxE5j6hZk",
    "outputId": "906d54db-bea6-4fe2-8d23-73b3c68ac031"
   },
   "outputs": [
    {
     "data": {
      "text/plain": [
       "datetime.date(2020, 9, 23)"
      ]
     },
     "execution_count": 11,
     "metadata": {},
     "output_type": "execute_result"
    }
   ],
   "source": [
    "pd.to_datetime(dfr.reg_ts, unit='s').dt.date.max()"
   ]
  },
  {
   "cell_type": "code",
   "execution_count": 12,
   "metadata": {
    "colab": {
     "base_uri": "https://localhost:8080/"
    },
    "id": "Qla5ELga53VQ",
    "outputId": "9ed2a6ed-5820-41ab-dbcd-14f2d85d2a47"
   },
   "outputs": [
    {
     "data": {
      "text/plain": [
       "datetime.date(1998, 11, 18)"
      ]
     },
     "execution_count": 12,
     "metadata": {},
     "output_type": "execute_result"
    }
   ],
   "source": [
    "pd.to_datetime(dfa.auth_ts, unit='s').dt.date.min()"
   ]
  },
  {
   "cell_type": "code",
   "execution_count": 13,
   "metadata": {
    "colab": {
     "base_uri": "https://localhost:8080/"
    },
    "id": "N5ssbL-p6yRH",
    "outputId": "a3313492-e599-47e0-cc92-9c69a5c192d4",
    "scrolled": true
   },
   "outputs": [
    {
     "data": {
      "text/plain": [
       "datetime.date(2020, 9, 23)"
      ]
     },
     "execution_count": 13,
     "metadata": {},
     "output_type": "execute_result"
    }
   ],
   "source": [
    "pd.to_datetime(dfa.auth_ts, unit='s').dt.date.max()"
   ]
  },
  {
   "cell_type": "markdown",
   "metadata": {},
   "source": [
    "Преобразуем даты."
   ]
  },
  {
   "cell_type": "code",
   "execution_count": 14,
   "metadata": {},
   "outputs": [],
   "source": [
    "dfr['reg_ts'] = pd.to_datetime(dfr.reg_ts, unit='s').dt.date\n",
    "dfa['auth_ts'] = pd.to_datetime(dfa.auth_ts, unit='s').dt.date"
   ]
  },
  {
   "cell_type": "markdown",
   "metadata": {
    "id": "TM7BakCAxW49"
   },
   "source": [
    "## 1.2.&nbsp;Функция расчёта retention"
   ]
  },
  {
   "cell_type": "markdown",
   "metadata": {
    "id": "IWpthTOn7Ygu"
   },
   "source": [
    "При проектировании функции старался сделать её универсальной, не зависящей от предыдущего кода загрузки данных. Поэтому остановился на передаче в качестве входных аргументов столбцов (Pandas Series) с датами и идентификаторами пользователей. Это позволит использовать функцию с различными датафреймами, выполнять фильтрацию данных на входе. В качестве альтернативы можно было бы подавать датафрейм целиком и отдельно названия целевых столбцов, как сделано в seaborn."
   ]
  },
  {
   "cell_type": "code",
   "execution_count": 15,
   "metadata": {
    "id": "O3OF6IqGsUvc"
   },
   "outputs": [],
   "source": [
    "def retention(date, reg_date, reg_uid, auth_date, auth_uid, last_date=None):\n",
    "    \"\"\"\n",
    "    Calculate users (players) daily retention rate (in percents).\n",
    "\n",
    "    :param date: first date of period\n",
    "    :param reg_date: registration dates Series\n",
    "    :param reg_uid: registered user ids Series\n",
    "    :param auth_date: authentication dates Series\n",
    "    :param auth_uid: authenticated user ids Series\n",
    "    :param date: last date of period (default None)\n",
    "    :returns: Dataframe with columns 'auth_date' , 'uid_count, 'day', 'retention'\n",
    "    \"\"\"\n",
    "\n",
    "    # reconstruct dataframes from series\n",
    "    dfr = pd.DataFrame({'reg_date': reg_date,\n",
    "                     'uid': reg_uid})\n",
    "    dfa = pd.DataFrame({'auth_date': auth_date,\n",
    "                     'uid': auth_uid})\n",
    "    date=pd.to_datetime(date).date()\n",
    "    # filtering by registration date\n",
    "    dfr = dfr[dfr.reg_date >= date]\n",
    "    dfa = dfa[dfa.auth_date >= date]\n",
    "    # filtering by last date (if exists)\n",
    "    if not(last_date is None):\n",
    "        last_date=pd.to_datetime(last_date).date()\n",
    "        dfr = dfr[dfr.reg_date <= last_date]\n",
    "        dfa = dfa[dfa.auth_date <= last_date]\n",
    "        \n",
    "    # join registrations and logins (authentications)\n",
    "    df = dfr.query('reg_date==@date') \\\n",
    "        .merge(dfa, how='inner', on='uid')\n",
    "    return df.groupby('auth_date', as_index=False) \\\n",
    "        .agg(uid_count=('uid', 'nunique')) \\\n",
    "        .sort_values('auth_date') \\\n",
    "        .assign(day=lambda x: (x.auth_date - date).dt.days ) \\\n",
    "        .assign(retention=lambda x: x.uid_count / x.uid_count.max() * 100)"
   ]
  },
  {
   "cell_type": "markdown",
   "metadata": {
    "id": "pT0yYJ6axga-"
   },
   "source": [
    "## 1.3.&nbsp;Пример использования"
   ]
  },
  {
   "cell_type": "markdown",
   "metadata": {
    "id": "Q1qqDsqe9O88"
   },
   "source": [
    "Расчёт для произвольной даты."
   ]
  },
  {
   "cell_type": "code",
   "execution_count": 16,
   "metadata": {
    "colab": {
     "base_uri": "https://localhost:8080/",
     "height": 424
    },
    "id": "wVuRuWSWxXdO",
    "outputId": "e1542819-fb7b-4385-cb68-266d5b27b6c3",
    "scrolled": false
   },
   "outputs": [
    {
     "data": {
      "text/html": [
       "<div>\n",
       "<style scoped>\n",
       "    .dataframe tbody tr th:only-of-type {\n",
       "        vertical-align: middle;\n",
       "    }\n",
       "\n",
       "    .dataframe tbody tr th {\n",
       "        vertical-align: top;\n",
       "    }\n",
       "\n",
       "    .dataframe thead th {\n",
       "        text-align: right;\n",
       "    }\n",
       "</style>\n",
       "<table border=\"1\" class=\"dataframe\">\n",
       "  <thead>\n",
       "    <tr style=\"text-align: right;\">\n",
       "      <th></th>\n",
       "      <th>auth_date</th>\n",
       "      <th>uid_count</th>\n",
       "      <th>day</th>\n",
       "      <th>retention</th>\n",
       "    </tr>\n",
       "  </thead>\n",
       "  <tbody>\n",
       "    <tr>\n",
       "      <th>0</th>\n",
       "      <td>2018-10-01</td>\n",
       "      <td>500</td>\n",
       "      <td>0</td>\n",
       "      <td>100.0</td>\n",
       "    </tr>\n",
       "    <tr>\n",
       "      <th>1</th>\n",
       "      <td>2018-10-02</td>\n",
       "      <td>11</td>\n",
       "      <td>1</td>\n",
       "      <td>2.2</td>\n",
       "    </tr>\n",
       "    <tr>\n",
       "      <th>2</th>\n",
       "      <td>2018-10-03</td>\n",
       "      <td>26</td>\n",
       "      <td>2</td>\n",
       "      <td>5.2</td>\n",
       "    </tr>\n",
       "    <tr>\n",
       "      <th>3</th>\n",
       "      <td>2018-10-04</td>\n",
       "      <td>28</td>\n",
       "      <td>3</td>\n",
       "      <td>5.6</td>\n",
       "    </tr>\n",
       "    <tr>\n",
       "      <th>4</th>\n",
       "      <td>2018-10-05</td>\n",
       "      <td>36</td>\n",
       "      <td>4</td>\n",
       "      <td>7.2</td>\n",
       "    </tr>\n",
       "    <tr>\n",
       "      <th>...</th>\n",
       "      <td>...</td>\n",
       "      <td>...</td>\n",
       "      <td>...</td>\n",
       "      <td>...</td>\n",
       "    </tr>\n",
       "    <tr>\n",
       "      <th>719</th>\n",
       "      <td>2020-09-19</td>\n",
       "      <td>11</td>\n",
       "      <td>719</td>\n",
       "      <td>2.2</td>\n",
       "    </tr>\n",
       "    <tr>\n",
       "      <th>720</th>\n",
       "      <td>2020-09-20</td>\n",
       "      <td>9</td>\n",
       "      <td>720</td>\n",
       "      <td>1.8</td>\n",
       "    </tr>\n",
       "    <tr>\n",
       "      <th>721</th>\n",
       "      <td>2020-09-21</td>\n",
       "      <td>5</td>\n",
       "      <td>721</td>\n",
       "      <td>1.0</td>\n",
       "    </tr>\n",
       "    <tr>\n",
       "      <th>722</th>\n",
       "      <td>2020-09-22</td>\n",
       "      <td>8</td>\n",
       "      <td>722</td>\n",
       "      <td>1.6</td>\n",
       "    </tr>\n",
       "    <tr>\n",
       "      <th>723</th>\n",
       "      <td>2020-09-23</td>\n",
       "      <td>7</td>\n",
       "      <td>723</td>\n",
       "      <td>1.4</td>\n",
       "    </tr>\n",
       "  </tbody>\n",
       "</table>\n",
       "<p>724 rows × 4 columns</p>\n",
       "</div>"
      ],
      "text/plain": [
       "      auth_date  uid_count  day  retention\n",
       "0    2018-10-01        500    0      100.0\n",
       "1    2018-10-02         11    1        2.2\n",
       "2    2018-10-03         26    2        5.2\n",
       "3    2018-10-04         28    3        5.6\n",
       "4    2018-10-05         36    4        7.2\n",
       "..          ...        ...  ...        ...\n",
       "719  2020-09-19         11  719        2.2\n",
       "720  2020-09-20          9  720        1.8\n",
       "721  2020-09-21          5  721        1.0\n",
       "722  2020-09-22          8  722        1.6\n",
       "723  2020-09-23          7  723        1.4\n",
       "\n",
       "[724 rows x 4 columns]"
      ]
     },
     "execution_count": 16,
     "metadata": {},
     "output_type": "execute_result"
    }
   ],
   "source": [
    "retention('2018-10-01', dfr.reg_ts, dfr.uid, dfa.auth_ts, dfa.uid)"
   ]
  },
  {
   "cell_type": "markdown",
   "metadata": {},
   "source": [
    "С ограничением временного диапазон расчёта."
   ]
  },
  {
   "cell_type": "code",
   "execution_count": 17,
   "metadata": {},
   "outputs": [
    {
     "data": {
      "text/html": [
       "<div>\n",
       "<style scoped>\n",
       "    .dataframe tbody tr th:only-of-type {\n",
       "        vertical-align: middle;\n",
       "    }\n",
       "\n",
       "    .dataframe tbody tr th {\n",
       "        vertical-align: top;\n",
       "    }\n",
       "\n",
       "    .dataframe thead th {\n",
       "        text-align: right;\n",
       "    }\n",
       "</style>\n",
       "<table border=\"1\" class=\"dataframe\">\n",
       "  <thead>\n",
       "    <tr style=\"text-align: right;\">\n",
       "      <th></th>\n",
       "      <th>auth_date</th>\n",
       "      <th>uid_count</th>\n",
       "      <th>day</th>\n",
       "      <th>retention</th>\n",
       "    </tr>\n",
       "  </thead>\n",
       "  <tbody>\n",
       "    <tr>\n",
       "      <th>0</th>\n",
       "      <td>2018-10-01</td>\n",
       "      <td>500</td>\n",
       "      <td>0</td>\n",
       "      <td>100.0</td>\n",
       "    </tr>\n",
       "    <tr>\n",
       "      <th>1</th>\n",
       "      <td>2018-10-02</td>\n",
       "      <td>11</td>\n",
       "      <td>1</td>\n",
       "      <td>2.2</td>\n",
       "    </tr>\n",
       "    <tr>\n",
       "      <th>2</th>\n",
       "      <td>2018-10-03</td>\n",
       "      <td>26</td>\n",
       "      <td>2</td>\n",
       "      <td>5.2</td>\n",
       "    </tr>\n",
       "    <tr>\n",
       "      <th>3</th>\n",
       "      <td>2018-10-04</td>\n",
       "      <td>28</td>\n",
       "      <td>3</td>\n",
       "      <td>5.6</td>\n",
       "    </tr>\n",
       "    <tr>\n",
       "      <th>4</th>\n",
       "      <td>2018-10-05</td>\n",
       "      <td>36</td>\n",
       "      <td>4</td>\n",
       "      <td>7.2</td>\n",
       "    </tr>\n",
       "    <tr>\n",
       "      <th>5</th>\n",
       "      <td>2018-10-06</td>\n",
       "      <td>43</td>\n",
       "      <td>5</td>\n",
       "      <td>8.6</td>\n",
       "    </tr>\n",
       "    <tr>\n",
       "      <th>6</th>\n",
       "      <td>2018-10-07</td>\n",
       "      <td>33</td>\n",
       "      <td>6</td>\n",
       "      <td>6.6</td>\n",
       "    </tr>\n",
       "    <tr>\n",
       "      <th>7</th>\n",
       "      <td>2018-10-08</td>\n",
       "      <td>31</td>\n",
       "      <td>7</td>\n",
       "      <td>6.2</td>\n",
       "    </tr>\n",
       "    <tr>\n",
       "      <th>8</th>\n",
       "      <td>2018-10-09</td>\n",
       "      <td>28</td>\n",
       "      <td>8</td>\n",
       "      <td>5.6</td>\n",
       "    </tr>\n",
       "    <tr>\n",
       "      <th>9</th>\n",
       "      <td>2018-10-10</td>\n",
       "      <td>42</td>\n",
       "      <td>9</td>\n",
       "      <td>8.4</td>\n",
       "    </tr>\n",
       "  </tbody>\n",
       "</table>\n",
       "</div>"
      ],
      "text/plain": [
       "    auth_date  uid_count  day  retention\n",
       "0  2018-10-01        500    0      100.0\n",
       "1  2018-10-02         11    1        2.2\n",
       "2  2018-10-03         26    2        5.2\n",
       "3  2018-10-04         28    3        5.6\n",
       "4  2018-10-05         36    4        7.2\n",
       "5  2018-10-06         43    5        8.6\n",
       "6  2018-10-07         33    6        6.6\n",
       "7  2018-10-08         31    7        6.2\n",
       "8  2018-10-09         28    8        5.6\n",
       "9  2018-10-10         42    9        8.4"
      ]
     },
     "execution_count": 17,
     "metadata": {},
     "output_type": "execute_result"
    }
   ],
   "source": [
    "retention('2018-10-01', dfr.reg_ts, dfr.uid, dfa.auth_ts, dfa.uid, '2018-10-10')"
   ]
  },
  {
   "cell_type": "markdown",
   "metadata": {
    "id": "wmoZVFEpxBoZ"
   },
   "source": [
    "Также возможно использовать для потоковой обработки списка дат."
   ]
  },
  {
   "cell_type": "code",
   "execution_count": 18,
   "metadata": {
    "id": "fEf6KPDxbLqy"
   },
   "outputs": [],
   "source": [
    "dates = ('2018-10-01', '2018-10-05', '2018-10-10', '2018-10-15', '2018-10-20', '2018-10-25', '2018-10-30')"
   ]
  },
  {
   "cell_type": "code",
   "execution_count": 19,
   "metadata": {
    "colab": {
     "base_uri": "https://localhost:8080/"
    },
    "id": "KFXhPyx04pMs",
    "outputId": "57cd603c-831f-4d5f-9565-6cca33d5c8f2"
   },
   "outputs": [
    {
     "name": "stdout",
     "output_type": "stream",
     "text": [
      "2018-10-01 - 2018-10-08\n",
      "2018-10-05 - 2018-10-12\n",
      "2018-10-10 - 2018-10-17\n",
      "2018-10-15 - 2018-10-22\n",
      "2018-10-20 - 2018-10-27\n",
      "2018-10-25 - 2018-11-01\n",
      "2018-10-30 - 2018-11-06\n"
     ]
    }
   ],
   "source": [
    "retentions = pd.DataFrame()\n",
    "for date in dates:\n",
    "    date2 = pd.Timestamp(date).date() + relativedelta(weeks=+1)\n",
    "    print(date, '-', date2)\n",
    "    df2 = retention(date, dfr.reg_ts, dfr.uid, dfa.auth_ts, dfa.uid, date2)\n",
    "    df2 = df2.drop(['auth_date', 'uid_count'], axis=1).T.drop('day')\n",
    "    df2.rename(index={'retention':date},inplace=True)\n",
    "    retentions = pd.concat([retentions, df2])"
   ]
  },
  {
   "cell_type": "code",
   "execution_count": 20,
   "metadata": {
    "colab": {
     "base_uri": "https://localhost:8080/",
     "height": 428
    },
    "id": "Cwhyr2Yigguc",
    "outputId": "7a32eb98-1a84-4b00-a161-674114918098"
   },
   "outputs": [
    {
     "data": {
      "text/html": [
       "<style  type=\"text/css\" >\n",
       "#T_786a46bc_45d0_11ee_bdbb_96000040dfb6row0_col0,#T_786a46bc_45d0_11ee_bdbb_96000040dfb6row1_col0,#T_786a46bc_45d0_11ee_bdbb_96000040dfb6row1_col3,#T_786a46bc_45d0_11ee_bdbb_96000040dfb6row2_col0,#T_786a46bc_45d0_11ee_bdbb_96000040dfb6row2_col2,#T_786a46bc_45d0_11ee_bdbb_96000040dfb6row2_col6,#T_786a46bc_45d0_11ee_bdbb_96000040dfb6row2_col7,#T_786a46bc_45d0_11ee_bdbb_96000040dfb6row3_col0,#T_786a46bc_45d0_11ee_bdbb_96000040dfb6row4_col0,#T_786a46bc_45d0_11ee_bdbb_96000040dfb6row4_col1,#T_786a46bc_45d0_11ee_bdbb_96000040dfb6row4_col5,#T_786a46bc_45d0_11ee_bdbb_96000040dfb6row5_col0,#T_786a46bc_45d0_11ee_bdbb_96000040dfb6row5_col4,#T_786a46bc_45d0_11ee_bdbb_96000040dfb6row6_col0{\n",
       "            background-color:  #f7fbff;\n",
       "            color:  #000000;\n",
       "        }#T_786a46bc_45d0_11ee_bdbb_96000040dfb6row0_col1{\n",
       "            background-color:  #6fb0d7;\n",
       "            color:  #000000;\n",
       "        }#T_786a46bc_45d0_11ee_bdbb_96000040dfb6row0_col2,#T_786a46bc_45d0_11ee_bdbb_96000040dfb6row0_col5,#T_786a46bc_45d0_11ee_bdbb_96000040dfb6row1_col4,#T_786a46bc_45d0_11ee_bdbb_96000040dfb6row1_col7,#T_786a46bc_45d0_11ee_bdbb_96000040dfb6row3_col3,#T_786a46bc_45d0_11ee_bdbb_96000040dfb6row3_col6,#T_786a46bc_45d0_11ee_bdbb_96000040dfb6row5_col1{\n",
       "            background-color:  #08306b;\n",
       "            color:  #f1f1f1;\n",
       "        }#T_786a46bc_45d0_11ee_bdbb_96000040dfb6row0_col3{\n",
       "            background-color:  #3d8dc4;\n",
       "            color:  #000000;\n",
       "        }#T_786a46bc_45d0_11ee_bdbb_96000040dfb6row0_col4{\n",
       "            background-color:  #083c7d;\n",
       "            color:  #f1f1f1;\n",
       "        }#T_786a46bc_45d0_11ee_bdbb_96000040dfb6row0_col6{\n",
       "            background-color:  #8dc1dd;\n",
       "            color:  #000000;\n",
       "        }#T_786a46bc_45d0_11ee_bdbb_96000040dfb6row0_col7,#T_786a46bc_45d0_11ee_bdbb_96000040dfb6row4_col2{\n",
       "            background-color:  #7db8da;\n",
       "            color:  #000000;\n",
       "        }#T_786a46bc_45d0_11ee_bdbb_96000040dfb6row1_col1{\n",
       "            background-color:  #f2f7fd;\n",
       "            color:  #000000;\n",
       "        }#T_786a46bc_45d0_11ee_bdbb_96000040dfb6row1_col2{\n",
       "            background-color:  #2373b6;\n",
       "            color:  #f1f1f1;\n",
       "        }#T_786a46bc_45d0_11ee_bdbb_96000040dfb6row1_col5{\n",
       "            background-color:  #bad6eb;\n",
       "            color:  #000000;\n",
       "        }#T_786a46bc_45d0_11ee_bdbb_96000040dfb6row1_col6{\n",
       "            background-color:  #9dcae1;\n",
       "            color:  #000000;\n",
       "        }#T_786a46bc_45d0_11ee_bdbb_96000040dfb6row2_col1{\n",
       "            background-color:  #4695c8;\n",
       "            color:  #000000;\n",
       "        }#T_786a46bc_45d0_11ee_bdbb_96000040dfb6row2_col3{\n",
       "            background-color:  #99c7e0;\n",
       "            color:  #000000;\n",
       "        }#T_786a46bc_45d0_11ee_bdbb_96000040dfb6row2_col4{\n",
       "            background-color:  #b4d3e9;\n",
       "            color:  #000000;\n",
       "        }#T_786a46bc_45d0_11ee_bdbb_96000040dfb6row2_col5{\n",
       "            background-color:  #083776;\n",
       "            color:  #f1f1f1;\n",
       "        }#T_786a46bc_45d0_11ee_bdbb_96000040dfb6row3_col1{\n",
       "            background-color:  #b5d4e9;\n",
       "            color:  #000000;\n",
       "        }#T_786a46bc_45d0_11ee_bdbb_96000040dfb6row3_col2{\n",
       "            background-color:  #77b5d9;\n",
       "            color:  #000000;\n",
       "        }#T_786a46bc_45d0_11ee_bdbb_96000040dfb6row3_col4{\n",
       "            background-color:  #e5eff9;\n",
       "            color:  #000000;\n",
       "        }#T_786a46bc_45d0_11ee_bdbb_96000040dfb6row3_col5{\n",
       "            background-color:  #2f7fbc;\n",
       "            color:  #000000;\n",
       "        }#T_786a46bc_45d0_11ee_bdbb_96000040dfb6row3_col7{\n",
       "            background-color:  #2171b5;\n",
       "            color:  #f1f1f1;\n",
       "        }#T_786a46bc_45d0_11ee_bdbb_96000040dfb6row4_col3{\n",
       "            background-color:  #8abfdd;\n",
       "            color:  #000000;\n",
       "        }#T_786a46bc_45d0_11ee_bdbb_96000040dfb6row4_col4{\n",
       "            background-color:  #1562a9;\n",
       "            color:  #f1f1f1;\n",
       "        }#T_786a46bc_45d0_11ee_bdbb_96000040dfb6row4_col6{\n",
       "            background-color:  #b9d6ea;\n",
       "            color:  #000000;\n",
       "        }#T_786a46bc_45d0_11ee_bdbb_96000040dfb6row4_col7{\n",
       "            background-color:  #c7dcef;\n",
       "            color:  #000000;\n",
       "        }#T_786a46bc_45d0_11ee_bdbb_96000040dfb6row5_col2{\n",
       "            background-color:  #105ba4;\n",
       "            color:  #f1f1f1;\n",
       "        }#T_786a46bc_45d0_11ee_bdbb_96000040dfb6row5_col3,#T_786a46bc_45d0_11ee_bdbb_96000040dfb6row5_col7{\n",
       "            background-color:  #b7d4ea;\n",
       "            color:  #000000;\n",
       "        }#T_786a46bc_45d0_11ee_bdbb_96000040dfb6row5_col5{\n",
       "            background-color:  #3686c0;\n",
       "            color:  #000000;\n",
       "        }#T_786a46bc_45d0_11ee_bdbb_96000040dfb6row5_col6{\n",
       "            background-color:  #6dafd7;\n",
       "            color:  #000000;\n",
       "        }#T_786a46bc_45d0_11ee_bdbb_96000040dfb6row6_col1,#T_786a46bc_45d0_11ee_bdbb_96000040dfb6row6_col3{\n",
       "            background-color:  #0e59a2;\n",
       "            color:  #f1f1f1;\n",
       "        }#T_786a46bc_45d0_11ee_bdbb_96000040dfb6row6_col2{\n",
       "            background-color:  #a5cde3;\n",
       "            color:  #000000;\n",
       "        }#T_786a46bc_45d0_11ee_bdbb_96000040dfb6row6_col4{\n",
       "            background-color:  #edf4fc;\n",
       "            color:  #000000;\n",
       "        }#T_786a46bc_45d0_11ee_bdbb_96000040dfb6row6_col5{\n",
       "            background-color:  #a1cbe2;\n",
       "            color:  #000000;\n",
       "        }#T_786a46bc_45d0_11ee_bdbb_96000040dfb6row6_col6{\n",
       "            background-color:  #3888c1;\n",
       "            color:  #000000;\n",
       "        }#T_786a46bc_45d0_11ee_bdbb_96000040dfb6row6_col7{\n",
       "            background-color:  #dae8f6;\n",
       "            color:  #000000;\n",
       "        }</style><table id=\"T_786a46bc_45d0_11ee_bdbb_96000040dfb6\" ><caption>User retention by cohort</caption><thead>    <tr>        <th class=\"blank level0\" ></th>        <th class=\"col_heading level0 col0\" >0</th>        <th class=\"col_heading level0 col1\" >1</th>        <th class=\"col_heading level0 col2\" >2</th>        <th class=\"col_heading level0 col3\" >3</th>        <th class=\"col_heading level0 col4\" >4</th>        <th class=\"col_heading level0 col5\" >5</th>        <th class=\"col_heading level0 col6\" >6</th>        <th class=\"col_heading level0 col7\" >7</th>    </tr></thead><tbody>\n",
       "                <tr>\n",
       "                        <th id=\"T_786a46bc_45d0_11ee_bdbb_96000040dfb6level0_row0\" class=\"row_heading level0 row0\" >2018-10-01</th>\n",
       "                        <td id=\"T_786a46bc_45d0_11ee_bdbb_96000040dfb6row0_col0\" class=\"data row0 col0\" >100.0%</td>\n",
       "                        <td id=\"T_786a46bc_45d0_11ee_bdbb_96000040dfb6row0_col1\" class=\"data row0 col1\" >2.2%</td>\n",
       "                        <td id=\"T_786a46bc_45d0_11ee_bdbb_96000040dfb6row0_col2\" class=\"data row0 col2\" >5.2%</td>\n",
       "                        <td id=\"T_786a46bc_45d0_11ee_bdbb_96000040dfb6row0_col3\" class=\"data row0 col3\" >5.6%</td>\n",
       "                        <td id=\"T_786a46bc_45d0_11ee_bdbb_96000040dfb6row0_col4\" class=\"data row0 col4\" >7.2%</td>\n",
       "                        <td id=\"T_786a46bc_45d0_11ee_bdbb_96000040dfb6row0_col5\" class=\"data row0 col5\" >8.6%</td>\n",
       "                        <td id=\"T_786a46bc_45d0_11ee_bdbb_96000040dfb6row0_col6\" class=\"data row0 col6\" >6.6%</td>\n",
       "                        <td id=\"T_786a46bc_45d0_11ee_bdbb_96000040dfb6row0_col7\" class=\"data row0 col7\" >6.2%</td>\n",
       "            </tr>\n",
       "            <tr>\n",
       "                        <th id=\"T_786a46bc_45d0_11ee_bdbb_96000040dfb6level0_row1\" class=\"row_heading level0 row1\" >2018-10-05</th>\n",
       "                        <td id=\"T_786a46bc_45d0_11ee_bdbb_96000040dfb6row1_col0\" class=\"data row1 col0\" >100.0%</td>\n",
       "                        <td id=\"T_786a46bc_45d0_11ee_bdbb_96000040dfb6row1_col1\" class=\"data row1 col1\" >1.6%</td>\n",
       "                        <td id=\"T_786a46bc_45d0_11ee_bdbb_96000040dfb6row1_col2\" class=\"data row1 col2\" >4.6%</td>\n",
       "                        <td id=\"T_786a46bc_45d0_11ee_bdbb_96000040dfb6row1_col3\" class=\"data row1 col3\" >3.4%</td>\n",
       "                        <td id=\"T_786a46bc_45d0_11ee_bdbb_96000040dfb6row1_col4\" class=\"data row1 col4\" >7.3%</td>\n",
       "                        <td id=\"T_786a46bc_45d0_11ee_bdbb_96000040dfb6row1_col5\" class=\"data row1 col5\" >5.4%</td>\n",
       "                        <td id=\"T_786a46bc_45d0_11ee_bdbb_96000040dfb6row1_col6\" class=\"data row1 col6\" >6.3%</td>\n",
       "                        <td id=\"T_786a46bc_45d0_11ee_bdbb_96000040dfb6row1_col7\" class=\"data row1 col7\" >7.7%</td>\n",
       "            </tr>\n",
       "            <tr>\n",
       "                        <th id=\"T_786a46bc_45d0_11ee_bdbb_96000040dfb6level0_row2\" class=\"row_heading level0 row2\" >2018-10-10</th>\n",
       "                        <td id=\"T_786a46bc_45d0_11ee_bdbb_96000040dfb6row2_col0\" class=\"data row2 col0\" >100.0%</td>\n",
       "                        <td id=\"T_786a46bc_45d0_11ee_bdbb_96000040dfb6row2_col1\" class=\"data row2 col1\" >2.4%</td>\n",
       "                        <td id=\"T_786a46bc_45d0_11ee_bdbb_96000040dfb6row2_col2\" class=\"data row2 col2\" >2.8%</td>\n",
       "                        <td id=\"T_786a46bc_45d0_11ee_bdbb_96000040dfb6row2_col3\" class=\"data row2 col3\" >4.7%</td>\n",
       "                        <td id=\"T_786a46bc_45d0_11ee_bdbb_96000040dfb6row2_col4\" class=\"data row2 col4\" >5.3%</td>\n",
       "                        <td id=\"T_786a46bc_45d0_11ee_bdbb_96000040dfb6row2_col5\" class=\"data row2 col5\" >8.5%</td>\n",
       "                        <td id=\"T_786a46bc_45d0_11ee_bdbb_96000040dfb6row2_col6\" class=\"data row2 col6\" >3.9%</td>\n",
       "                        <td id=\"T_786a46bc_45d0_11ee_bdbb_96000040dfb6row2_col7\" class=\"data row2 col7\" >4.9%</td>\n",
       "            </tr>\n",
       "            <tr>\n",
       "                        <th id=\"T_786a46bc_45d0_11ee_bdbb_96000040dfb6level0_row3\" class=\"row_heading level0 row3\" >2018-10-15</th>\n",
       "                        <td id=\"T_786a46bc_45d0_11ee_bdbb_96000040dfb6row3_col0\" class=\"data row3 col0\" >100.0%</td>\n",
       "                        <td id=\"T_786a46bc_45d0_11ee_bdbb_96000040dfb6row3_col1\" class=\"data row3 col1\" >2.0%</td>\n",
       "                        <td id=\"T_786a46bc_45d0_11ee_bdbb_96000040dfb6row3_col2\" class=\"data row3 col2\" >3.9%</td>\n",
       "                        <td id=\"T_786a46bc_45d0_11ee_bdbb_96000040dfb6row3_col3\" class=\"data row3 col3\" >6.8%</td>\n",
       "                        <td id=\"T_786a46bc_45d0_11ee_bdbb_96000040dfb6row3_col4\" class=\"data row3 col4\" >4.7%</td>\n",
       "                        <td id=\"T_786a46bc_45d0_11ee_bdbb_96000040dfb6row3_col5\" class=\"data row3 col5\" >7.2%</td>\n",
       "                        <td id=\"T_786a46bc_45d0_11ee_bdbb_96000040dfb6row3_col6\" class=\"data row3 col6\" >10.4%</td>\n",
       "                        <td id=\"T_786a46bc_45d0_11ee_bdbb_96000040dfb6row3_col7\" class=\"data row3 col7\" >7.0%</td>\n",
       "            </tr>\n",
       "            <tr>\n",
       "                        <th id=\"T_786a46bc_45d0_11ee_bdbb_96000040dfb6level0_row4\" class=\"row_heading level0 row4\" >2018-10-20</th>\n",
       "                        <td id=\"T_786a46bc_45d0_11ee_bdbb_96000040dfb6row4_col0\" class=\"data row4 col0\" >100.0%</td>\n",
       "                        <td id=\"T_786a46bc_45d0_11ee_bdbb_96000040dfb6row4_col1\" class=\"data row4 col1\" >1.5%</td>\n",
       "                        <td id=\"T_786a46bc_45d0_11ee_bdbb_96000040dfb6row4_col2\" class=\"data row4 col2\" >3.9%</td>\n",
       "                        <td id=\"T_786a46bc_45d0_11ee_bdbb_96000040dfb6row4_col3\" class=\"data row4 col3\" >4.8%</td>\n",
       "                        <td id=\"T_786a46bc_45d0_11ee_bdbb_96000040dfb6row4_col4\" class=\"data row4 col4\" >6.8%</td>\n",
       "                        <td id=\"T_786a46bc_45d0_11ee_bdbb_96000040dfb6row4_col5\" class=\"data row4 col5\" >4.1%</td>\n",
       "                        <td id=\"T_786a46bc_45d0_11ee_bdbb_96000040dfb6row4_col6\" class=\"data row4 col6\" >5.8%</td>\n",
       "                        <td id=\"T_786a46bc_45d0_11ee_bdbb_96000040dfb6row4_col7\" class=\"data row4 col7\" >5.6%</td>\n",
       "            </tr>\n",
       "            <tr>\n",
       "                        <th id=\"T_786a46bc_45d0_11ee_bdbb_96000040dfb6level0_row5\" class=\"row_heading level0 row5\" >2018-10-25</th>\n",
       "                        <td id=\"T_786a46bc_45d0_11ee_bdbb_96000040dfb6row5_col0\" class=\"data row5 col0\" >100.0%</td>\n",
       "                        <td id=\"T_786a46bc_45d0_11ee_bdbb_96000040dfb6row5_col1\" class=\"data row5 col1\" >2.9%</td>\n",
       "                        <td id=\"T_786a46bc_45d0_11ee_bdbb_96000040dfb6row5_col2\" class=\"data row5 col2\" >4.8%</td>\n",
       "                        <td id=\"T_786a46bc_45d0_11ee_bdbb_96000040dfb6row5_col3\" class=\"data row5 col3\" >4.4%</td>\n",
       "                        <td id=\"T_786a46bc_45d0_11ee_bdbb_96000040dfb6row5_col4\" class=\"data row5 col4\" >4.4%</td>\n",
       "                        <td id=\"T_786a46bc_45d0_11ee_bdbb_96000040dfb6row5_col5\" class=\"data row5 col5\" >7.1%</td>\n",
       "                        <td id=\"T_786a46bc_45d0_11ee_bdbb_96000040dfb6row5_col6\" class=\"data row5 col6\" >7.1%</td>\n",
       "                        <td id=\"T_786a46bc_45d0_11ee_bdbb_96000040dfb6row5_col7\" class=\"data row5 col7\" >5.8%</td>\n",
       "            </tr>\n",
       "            <tr>\n",
       "                        <th id=\"T_786a46bc_45d0_11ee_bdbb_96000040dfb6level0_row6\" class=\"row_heading level0 row6\" >2018-10-30</th>\n",
       "                        <td id=\"T_786a46bc_45d0_11ee_bdbb_96000040dfb6row6_col0\" class=\"data row6 col0\" >100.0%</td>\n",
       "                        <td id=\"T_786a46bc_45d0_11ee_bdbb_96000040dfb6row6_col1\" class=\"data row6 col1\" >2.7%</td>\n",
       "                        <td id=\"T_786a46bc_45d0_11ee_bdbb_96000040dfb6row6_col2\" class=\"data row6 col2\" >3.6%</td>\n",
       "                        <td id=\"T_786a46bc_45d0_11ee_bdbb_96000040dfb6row6_col3\" class=\"data row6 col3\" >6.3%</td>\n",
       "                        <td id=\"T_786a46bc_45d0_11ee_bdbb_96000040dfb6row6_col4\" class=\"data row6 col4\" >4.6%</td>\n",
       "                        <td id=\"T_786a46bc_45d0_11ee_bdbb_96000040dfb6row6_col5\" class=\"data row6 col5\" >5.7%</td>\n",
       "                        <td id=\"T_786a46bc_45d0_11ee_bdbb_96000040dfb6row6_col6\" class=\"data row6 col6\" >8.2%</td>\n",
       "                        <td id=\"T_786a46bc_45d0_11ee_bdbb_96000040dfb6row6_col7\" class=\"data row6 col7\" >5.3%</td>\n",
       "            </tr>\n",
       "    </tbody></table>"
      ],
      "text/plain": [
       "<pandas.io.formats.style.Styler at 0x7fd6681543c8>"
      ]
     },
     "execution_count": 20,
     "metadata": {},
     "output_type": "execute_result"
    }
   ],
   "source": [
    "retentions.style \\\n",
    "    .set_caption('User retention by cohort')  \\\n",
    "    .background_gradient(cmap='Blues')  \\\n",
    "    .highlight_null('white')  \\\n",
    "    .format(\"{:.1f}%\", na_rep=\"\")"
   ]
  },
  {
   "cell_type": "markdown",
   "metadata": {
    "id": "JDBlBqinBDhG"
   },
   "source": [
    "# 2.&nbsp;Анализ результатов A/B теста"
   ]
  },
  {
   "cell_type": "markdown",
   "metadata": {
    "id": "rPe3WZQpwONF"
   },
   "source": [
    "## 2.1.&nbsp;Загрузка данных и разведочный анализ"
   ]
  },
  {
   "cell_type": "code",
   "execution_count": 21,
   "metadata": {
    "colab": {
     "base_uri": "https://localhost:8080/",
     "height": 206
    },
    "id": "WmSkQzRmiTwN",
    "outputId": "1ced8c04-ffde-4728-96c8-e39f15b90251"
   },
   "outputs": [
    {
     "data": {
      "text/html": [
       "<div>\n",
       "<style scoped>\n",
       "    .dataframe tbody tr th:only-of-type {\n",
       "        vertical-align: middle;\n",
       "    }\n",
       "\n",
       "    .dataframe tbody tr th {\n",
       "        vertical-align: top;\n",
       "    }\n",
       "\n",
       "    .dataframe thead th {\n",
       "        text-align: right;\n",
       "    }\n",
       "</style>\n",
       "<table border=\"1\" class=\"dataframe\">\n",
       "  <thead>\n",
       "    <tr style=\"text-align: right;\">\n",
       "      <th></th>\n",
       "      <th>user_id</th>\n",
       "      <th>revenue</th>\n",
       "      <th>testgroup</th>\n",
       "    </tr>\n",
       "  </thead>\n",
       "  <tbody>\n",
       "    <tr>\n",
       "      <th>0</th>\n",
       "      <td>1</td>\n",
       "      <td>0</td>\n",
       "      <td>b</td>\n",
       "    </tr>\n",
       "    <tr>\n",
       "      <th>1</th>\n",
       "      <td>2</td>\n",
       "      <td>0</td>\n",
       "      <td>a</td>\n",
       "    </tr>\n",
       "    <tr>\n",
       "      <th>2</th>\n",
       "      <td>3</td>\n",
       "      <td>0</td>\n",
       "      <td>a</td>\n",
       "    </tr>\n",
       "    <tr>\n",
       "      <th>3</th>\n",
       "      <td>4</td>\n",
       "      <td>0</td>\n",
       "      <td>b</td>\n",
       "    </tr>\n",
       "    <tr>\n",
       "      <th>4</th>\n",
       "      <td>5</td>\n",
       "      <td>0</td>\n",
       "      <td>b</td>\n",
       "    </tr>\n",
       "  </tbody>\n",
       "</table>\n",
       "</div>"
      ],
      "text/plain": [
       "   user_id  revenue testgroup\n",
       "0        1        0         b\n",
       "1        2        0         a\n",
       "2        3        0         a\n",
       "3        4        0         b\n",
       "4        5        0         b"
      ]
     },
     "execution_count": 21,
     "metadata": {},
     "output_type": "execute_result"
    }
   ],
   "source": [
    "dftest = pd.read_csv('~/shared/problem2.csv', sep=';')\n",
    "dftest.head()"
   ]
  },
  {
   "cell_type": "markdown",
   "metadata": {
    "id": "qPfuUphnwws_"
   },
   "source": [
    "Проверим типы данных и наличие пропущенных значений."
   ]
  },
  {
   "cell_type": "code",
   "execution_count": 22,
   "metadata": {
    "colab": {
     "base_uri": "https://localhost:8080/"
    },
    "id": "8RSkAcUgig4Q",
    "outputId": "ca79c253-5ec2-4be0-a4e1-1114d9ab1469"
   },
   "outputs": [
    {
     "name": "stdout",
     "output_type": "stream",
     "text": [
      "<class 'pandas.core.frame.DataFrame'>\n",
      "RangeIndex: 404770 entries, 0 to 404769\n",
      "Data columns (total 3 columns):\n",
      " #   Column     Non-Null Count   Dtype \n",
      "---  ------     --------------   ----- \n",
      " 0   user_id    404770 non-null  int64 \n",
      " 1   revenue    404770 non-null  int64 \n",
      " 2   testgroup  404770 non-null  object\n",
      "dtypes: int64(2), object(1)\n",
      "memory usage: 9.3+ MB\n"
     ]
    }
   ],
   "source": [
    "dftest.info()"
   ]
  },
  {
   "cell_type": "code",
   "execution_count": 23,
   "metadata": {
    "colab": {
     "base_uri": "https://localhost:8080/"
    },
    "id": "_eQXmO-X0ylq",
    "outputId": "9f727c0d-5fd9-49b4-badb-3962697a56a2"
   },
   "outputs": [
    {
     "data": {
      "text/plain": [
       "user_id      0\n",
       "revenue      0\n",
       "testgroup    0\n",
       "dtype: int64"
      ]
     },
     "execution_count": 23,
     "metadata": {},
     "output_type": "execute_result"
    }
   ],
   "source": [
    "dftest.isna().sum()"
   ]
  },
  {
   "cell_type": "markdown",
   "metadata": {
    "id": "SvvSuT512JMm"
   },
   "source": [
    "Групп две, идентификаторы пользователей не дублируются."
   ]
  },
  {
   "cell_type": "code",
   "execution_count": 24,
   "metadata": {
    "colab": {
     "base_uri": "https://localhost:8080/"
    },
    "id": "JqQSHN00ikCo",
    "outputId": "84a94585-b680-4ad6-9a4d-c436b8a0ca91"
   },
   "outputs": [
    {
     "data": {
      "text/plain": [
       "user_id      404770\n",
       "revenue        1477\n",
       "testgroup         2\n",
       "dtype: int64"
      ]
     },
     "execution_count": 24,
     "metadata": {},
     "output_type": "execute_result"
    }
   ],
   "source": [
    "dftest.nunique()"
   ]
  },
  {
   "cell_type": "code",
   "execution_count": 25,
   "metadata": {
    "colab": {
     "base_uri": "https://localhost:8080/"
    },
    "id": "TBuAwu0E2M_N",
    "outputId": "62bc8ca7-4d8e-4494-9366-a23226d36944"
   },
   "outputs": [
    {
     "data": {
      "text/plain": [
       "array(['b', 'a'], dtype=object)"
      ]
     },
     "execution_count": 25,
     "metadata": {},
     "output_type": "execute_result"
    }
   ],
   "source": [
    "dftest.testgroup.unique()"
   ]
  },
  {
   "cell_type": "markdown",
   "metadata": {
    "id": "OzFdBjg-2TUL"
   },
   "source": [
    "Посмотрим, что с платежами."
   ]
  },
  {
   "cell_type": "code",
   "execution_count": 26,
   "metadata": {
    "colab": {
     "base_uri": "https://localhost:8080/"
    },
    "id": "l_pmc1BQ1zWM",
    "outputId": "b4ca4b75-b3de-458b-e329-ab12fc6bbb4c"
   },
   "outputs": [
    {
     "data": {
      "text/plain": [
       "count    404770.000000\n",
       "mean         26.083435\n",
       "std         681.652928\n",
       "min           0.000000\n",
       "25%           0.000000\n",
       "50%           0.000000\n",
       "75%           0.000000\n",
       "max       37433.000000\n",
       "Name: revenue, dtype: float64"
      ]
     },
     "execution_count": 26,
     "metadata": {},
     "output_type": "execute_result"
    }
   ],
   "source": [
    "dftest.revenue.describe()"
   ]
  },
  {
   "cell_type": "code",
   "execution_count": 27,
   "metadata": {
    "colab": {
     "base_uri": "https://localhost:8080/"
    },
    "id": "lujJ4DG42Z6l",
    "outputId": "e0109831-119e-44fd-ce42-b0717234918a"
   },
   "outputs": [
    {
     "data": {
      "text/plain": [
       "count     3733.000000\n",
       "mean      2828.232521\n",
       "std       6516.770722\n",
       "min        200.000000\n",
       "25%        309.000000\n",
       "50%       2052.000000\n",
       "75%       3126.000000\n",
       "max      37433.000000\n",
       "Name: revenue, dtype: float64"
      ]
     },
     "execution_count": 27,
     "metadata": {},
     "output_type": "execute_result"
    }
   ],
   "source": [
    "dftest.query('revenue>0').revenue.describe()"
   ]
  },
  {
   "cell_type": "markdown",
   "metadata": {
    "id": "mYb3QY9X2tft"
   },
   "source": [
    "Платит порядка 1% пользователей, среди заплативших есть выбросы."
   ]
  },
  {
   "cell_type": "markdown",
   "metadata": {
    "id": "TJ3mKUlC28X7"
   },
   "source": [
    "Разделим данные на тестовую и контрольную группы."
   ]
  },
  {
   "cell_type": "code",
   "execution_count": 28,
   "metadata": {
    "colab": {
     "base_uri": "https://localhost:8080/",
     "height": 206
    },
    "id": "HSyBFQiTtY3B",
    "outputId": "1ee4ee43-3249-4998-9d1e-31008ab4bc93"
   },
   "outputs": [
    {
     "data": {
      "text/html": [
       "<div>\n",
       "<style scoped>\n",
       "    .dataframe tbody tr th:only-of-type {\n",
       "        vertical-align: middle;\n",
       "    }\n",
       "\n",
       "    .dataframe tbody tr th {\n",
       "        vertical-align: top;\n",
       "    }\n",
       "\n",
       "    .dataframe thead th {\n",
       "        text-align: right;\n",
       "    }\n",
       "</style>\n",
       "<table border=\"1\" class=\"dataframe\">\n",
       "  <thead>\n",
       "    <tr style=\"text-align: right;\">\n",
       "      <th></th>\n",
       "      <th>user_id</th>\n",
       "      <th>revenue</th>\n",
       "    </tr>\n",
       "  </thead>\n",
       "  <tbody>\n",
       "    <tr>\n",
       "      <th>0</th>\n",
       "      <td>2</td>\n",
       "      <td>0</td>\n",
       "    </tr>\n",
       "    <tr>\n",
       "      <th>1</th>\n",
       "      <td>3</td>\n",
       "      <td>0</td>\n",
       "    </tr>\n",
       "    <tr>\n",
       "      <th>2</th>\n",
       "      <td>10</td>\n",
       "      <td>0</td>\n",
       "    </tr>\n",
       "    <tr>\n",
       "      <th>3</th>\n",
       "      <td>11</td>\n",
       "      <td>0</td>\n",
       "    </tr>\n",
       "    <tr>\n",
       "      <th>4</th>\n",
       "      <td>12</td>\n",
       "      <td>0</td>\n",
       "    </tr>\n",
       "  </tbody>\n",
       "</table>\n",
       "</div>"
      ],
      "text/plain": [
       "   user_id  revenue\n",
       "0        2        0\n",
       "1        3        0\n",
       "2       10        0\n",
       "3       11        0\n",
       "4       12        0"
      ]
     },
     "execution_count": 28,
     "metadata": {},
     "output_type": "execute_result"
    }
   ],
   "source": [
    "dfta = dftest.query('testgroup==\"a\"').drop('testgroup', axis=1).reset_index(drop=True)\n",
    "dfta.head()"
   ]
  },
  {
   "cell_type": "code",
   "execution_count": 29,
   "metadata": {
    "colab": {
     "base_uri": "https://localhost:8080/",
     "height": 206
    },
    "id": "Yoz6GWFft-ao",
    "outputId": "a4d22183-b829-47af-cb40-501247f68041"
   },
   "outputs": [
    {
     "data": {
      "text/html": [
       "<div>\n",
       "<style scoped>\n",
       "    .dataframe tbody tr th:only-of-type {\n",
       "        vertical-align: middle;\n",
       "    }\n",
       "\n",
       "    .dataframe tbody tr th {\n",
       "        vertical-align: top;\n",
       "    }\n",
       "\n",
       "    .dataframe thead th {\n",
       "        text-align: right;\n",
       "    }\n",
       "</style>\n",
       "<table border=\"1\" class=\"dataframe\">\n",
       "  <thead>\n",
       "    <tr style=\"text-align: right;\">\n",
       "      <th></th>\n",
       "      <th>user_id</th>\n",
       "      <th>revenue</th>\n",
       "    </tr>\n",
       "  </thead>\n",
       "  <tbody>\n",
       "    <tr>\n",
       "      <th>0</th>\n",
       "      <td>1</td>\n",
       "      <td>0</td>\n",
       "    </tr>\n",
       "    <tr>\n",
       "      <th>1</th>\n",
       "      <td>4</td>\n",
       "      <td>0</td>\n",
       "    </tr>\n",
       "    <tr>\n",
       "      <th>2</th>\n",
       "      <td>5</td>\n",
       "      <td>0</td>\n",
       "    </tr>\n",
       "    <tr>\n",
       "      <th>3</th>\n",
       "      <td>6</td>\n",
       "      <td>0</td>\n",
       "    </tr>\n",
       "    <tr>\n",
       "      <th>4</th>\n",
       "      <td>7</td>\n",
       "      <td>0</td>\n",
       "    </tr>\n",
       "  </tbody>\n",
       "</table>\n",
       "</div>"
      ],
      "text/plain": [
       "   user_id  revenue\n",
       "0        1        0\n",
       "1        4        0\n",
       "2        5        0\n",
       "3        6        0\n",
       "4        7        0"
      ]
     },
     "execution_count": 29,
     "metadata": {},
     "output_type": "execute_result"
    }
   ],
   "source": [
    "dftb = dftest.query('testgroup==\"b\"').drop('testgroup', axis=1).reset_index(drop=True)\n",
    "dftb.head()"
   ]
  },
  {
   "cell_type": "code",
   "execution_count": 30,
   "metadata": {
    "colab": {
     "base_uri": "https://localhost:8080/"
    },
    "id": "gzVltos86TKe",
    "outputId": "5c65852a-fcc9-4838-8d61-ce3f9a83ed3b"
   },
   "outputs": [
    {
     "name": "stdout",
     "output_type": "stream",
     "text": [
      "202103\n",
      "202667\n"
     ]
    }
   ],
   "source": [
    "print(len(dfta.index))\n",
    "print(len(dftb.index))"
   ]
  },
  {
   "cell_type": "markdown",
   "metadata": {
    "id": "nF-ufGXq_r5J"
   },
   "source": [
    "Создадим датафрейм, в который будем собирать метрики."
   ]
  },
  {
   "cell_type": "code",
   "execution_count": 31,
   "metadata": {
    "id": "JtdJ7j01_w19"
   },
   "outputs": [],
   "source": [
    "columns = ['users', 'paid', 'CR', 'ARPU', 'ARPPU', 'sum']\n",
    "results = pd.DataFrame(columns=columns, index=['a', 'b'])\n",
    "results['users']['a'] = len(dfta.index)\n",
    "results['users']['b'] = len(dftb.index)\n",
    "results['paid']['a'] = len(dfta.query('revenue>0').index)\n",
    "results['paid']['b'] = len(dftb.query('revenue>0').index)"
   ]
  },
  {
   "cell_type": "code",
   "execution_count": 32,
   "metadata": {
    "colab": {
     "base_uri": "https://localhost:8080/"
    },
    "id": "spU2ymj96ujD",
    "outputId": "753f9874-dae2-448f-ec8e-b062facc155b"
   },
   "outputs": [
    {
     "name": "stdout",
     "output_type": "stream",
     "text": [
      "1928\n",
      "1805\n",
      "-123\n",
      "-6.379668049792531\n"
     ]
    }
   ],
   "source": [
    "print(len(dfta.query('revenue>0').index))\n",
    "print(len(dftb.query('revenue>0').index))\n",
    "print((len(dftb.query('revenue>0').index)-len(dfta.query('revenue>0').index)))\n",
    "print((len(dftb.query('revenue>0').index)-len(dfta.query('revenue>0').index)) / len(dfta.query('revenue>0').index) * 100.0)"
   ]
  },
  {
   "cell_type": "markdown",
   "metadata": {
    "id": "ShwjuJY36gWU"
   },
   "source": [
    "Размеры групп примерно совпадают, а количество платящих пользователей во второй группе снизилось на 6% (123 пользователя)."
   ]
  },
  {
   "cell_type": "markdown",
   "metadata": {
    "id": "03zNz7Wp6okY"
   },
   "source": [
    "Посмотрим, что происходит в них с платежами."
   ]
  },
  {
   "cell_type": "code",
   "execution_count": 33,
   "metadata": {
    "colab": {
     "base_uri": "https://localhost:8080/"
    },
    "id": "XFLfkQPI8jnj",
    "outputId": "6d2f3dd5-27c4-4691-84e0-da626f0b6ef3"
   },
   "outputs": [
    {
     "data": {
      "text/plain": [
       "count    202103.000000\n",
       "mean         25.413720\n",
       "std         920.768137\n",
       "min           0.000000\n",
       "25%           0.000000\n",
       "50%           0.000000\n",
       "75%           0.000000\n",
       "max       37433.000000\n",
       "Name: revenue, dtype: float64"
      ]
     },
     "execution_count": 33,
     "metadata": {},
     "output_type": "execute_result"
    }
   ],
   "source": [
    "dfta.revenue.describe()"
   ]
  },
  {
   "cell_type": "code",
   "execution_count": 34,
   "metadata": {
    "colab": {
     "base_uri": "https://localhost:8080/"
    },
    "id": "cToNWhqZ8qbh",
    "outputId": "1324323d-c3c0-4967-aca8-c84c8c05f0fc"
   },
   "outputs": [
    {
     "data": {
      "text/plain": [
       "count    202667.000000\n",
       "mean         26.751287\n",
       "std         287.324162\n",
       "min           0.000000\n",
       "25%           0.000000\n",
       "50%           0.000000\n",
       "75%           0.000000\n",
       "max        4000.000000\n",
       "Name: revenue, dtype: float64"
      ]
     },
     "execution_count": 34,
     "metadata": {},
     "output_type": "execute_result"
    }
   ],
   "source": [
    "dftb.revenue.describe()"
   ]
  },
  {
   "cell_type": "code",
   "execution_count": 35,
   "metadata": {
    "colab": {
     "base_uri": "https://localhost:8080/"
    },
    "id": "tJEMfoKL634v",
    "outputId": "6358d4fe-3db3-496d-fb14-1cf0c673f70b"
   },
   "outputs": [
    {
     "data": {
      "text/plain": [
       "count     1928.000000\n",
       "mean      2663.998444\n",
       "std       9049.039763\n",
       "min        200.000000\n",
       "25%        257.000000\n",
       "50%        311.000000\n",
       "75%        361.000000\n",
       "max      37433.000000\n",
       "Name: revenue, dtype: float64"
      ]
     },
     "execution_count": 35,
     "metadata": {},
     "output_type": "execute_result"
    }
   ],
   "source": [
    "dfta.query('revenue>0').revenue.describe()"
   ]
  },
  {
   "cell_type": "code",
   "execution_count": 36,
   "metadata": {
    "colab": {
     "base_uri": "https://localhost:8080/"
    },
    "id": "WfnW14Tq81BE",
    "outputId": "af570158-d1fd-417c-af50-f33ef5acb2e4"
   },
   "outputs": [
    {
     "data": {
      "text/plain": [
       "count    1805.000000\n",
       "mean     3003.658172\n",
       "std       572.619709\n",
       "min      2000.000000\n",
       "25%      2513.000000\n",
       "50%      3022.000000\n",
       "75%      3478.000000\n",
       "max      4000.000000\n",
       "Name: revenue, dtype: float64"
      ]
     },
     "execution_count": 36,
     "metadata": {},
     "output_type": "execute_result"
    }
   ],
   "source": [
    "dftb.query('revenue>0').revenue.describe()"
   ]
  },
  {
   "cell_type": "code",
   "execution_count": 37,
   "metadata": {
    "colab": {
     "base_uri": "https://localhost:8080/"
    },
    "id": "g6XiCTqv9WRN",
    "outputId": "5888190d-db57-4c0a-cba3-0829fc133310"
   },
   "outputs": [
    {
     "data": {
      "text/plain": [
       "10557792"
      ]
     },
     "execution_count": 37,
     "metadata": {},
     "output_type": "execute_result"
    }
   ],
   "source": [
    "dftest.revenue.sum()"
   ]
  },
  {
   "cell_type": "code",
   "execution_count": 38,
   "metadata": {
    "colab": {
     "base_uri": "https://localhost:8080/"
    },
    "id": "49VTCrBUIYP0",
    "outputId": "f25b9f1a-f4e9-4ca7-f311-f8d15a06f611"
   },
   "outputs": [
    {
     "data": {
      "text/plain": [
       "5136189"
      ]
     },
     "execution_count": 38,
     "metadata": {},
     "output_type": "execute_result"
    }
   ],
   "source": [
    "dfta.revenue.sum()"
   ]
  },
  {
   "cell_type": "code",
   "execution_count": 39,
   "metadata": {
    "colab": {
     "base_uri": "https://localhost:8080/"
    },
    "id": "bTWIO1mSIa_H",
    "outputId": "0eebb628-98a3-49e0-d222-294542a4ded5"
   },
   "outputs": [
    {
     "data": {
      "text/plain": [
       "5421603"
      ]
     },
     "execution_count": 39,
     "metadata": {},
     "output_type": "execute_result"
    }
   ],
   "source": [
    "dftb.revenue.sum()"
   ]
  },
  {
   "cell_type": "code",
   "execution_count": 40,
   "metadata": {
    "colab": {
     "base_uri": "https://localhost:8080/",
     "height": 466
    },
    "id": "RqgMKwXv9fVo",
    "outputId": "38fd390b-3e79-4bb1-8988-1d5d01aeee70"
   },
   "outputs": [
    {
     "data": {
      "text/plain": [
       "<matplotlib.axes._subplots.AxesSubplot at 0x7fd63bcf62e8>"
      ]
     },
     "execution_count": 40,
     "metadata": {},
     "output_type": "execute_result"
    },
    {
     "data": {
      "image/png": "[encoded data removed]",
      "text/plain": [
       "<Figure size 432x288 with 1 Axes>"
      ]
     },
     "metadata": {
      "needs_background": "light"
     },
     "output_type": "display_data"
    }
   ],
   "source": [
    "sns.histplot(data=dfta.query('revenue>0'), x='revenue')"
   ]
  },
  {
   "cell_type": "code",
   "execution_count": 41,
   "metadata": {
    "colab": {
     "base_uri": "https://localhost:8080/",
     "height": 466
    },
    "id": "KRoJyoy4CU4Q",
    "outputId": "e2277510-bc4c-4a27-cec2-a8ef1bd472a1"
   },
   "outputs": [
    {
     "data": {
      "text/plain": [
       "<matplotlib.axes._subplots.AxesSubplot at 0x7fd63a613828>"
      ]
     },
     "execution_count": 41,
     "metadata": {},
     "output_type": "execute_result"
    },
    {
     "data": {
      "image/png": "[encoded data removed]",
      "text/plain": [
       "<Figure size 432x288 with 1 Axes>"
      ]
     },
     "metadata": {
      "needs_background": "light"
     },
     "output_type": "display_data"
    }
   ],
   "source": [
    "sns.histplot(data=dfta.query('revenue>0 and revenue<35000'), x='revenue')"
   ]
  },
  {
   "cell_type": "code",
   "execution_count": 42,
   "metadata": {
    "colab": {
     "base_uri": "https://localhost:8080/",
     "height": 428
    },
    "id": "4DOARJOXEPx9",
    "outputId": "6cc51180-0ca6-4f2b-bab5-dcd366a50445"
   },
   "outputs": [
    {
     "data": {
      "text/plain": [
       "<matplotlib.axes._subplots.AxesSubplot at 0x7fd639bf2f60>"
      ]
     },
     "execution_count": 42,
     "metadata": {},
     "output_type": "execute_result"
    },
    {
     "data": {
      "image/png": "[encoded data removed]",
      "text/plain": [
       "<Figure size 432x288 with 1 Axes>"
      ]
     },
     "metadata": {
      "needs_background": "light"
     },
     "output_type": "display_data"
    }
   ],
   "source": [
    "sns.boxplot(data=dfta.query('revenue>0 and revenue<35000'), y='revenue')"
   ]
  },
  {
   "cell_type": "code",
   "execution_count": 43,
   "metadata": {
    "colab": {
     "base_uri": "https://localhost:8080/"
    },
    "id": "kdzS2G74Cdhu",
    "outputId": "a0061be3-bc04-4f39-9c93-cddfd3b6350b"
   },
   "outputs": [
    {
     "data": {
      "text/plain": [
       "count      123.000000\n",
       "mean     37319.121951\n",
       "std         25.442183\n",
       "min      37293.000000\n",
       "25%      37301.000000\n",
       "50%      37311.000000\n",
       "75%      37329.000000\n",
       "max      37433.000000\n",
       "Name: revenue, dtype: float64"
      ]
     },
     "execution_count": 43,
     "metadata": {},
     "output_type": "execute_result"
    }
   ],
   "source": [
    "dfta.query('revenue>35000').revenue.describe()"
   ]
  },
  {
   "cell_type": "code",
   "execution_count": 44,
   "metadata": {
    "colab": {
     "base_uri": "https://localhost:8080/",
     "height": 466
    },
    "id": "CRFfQpMIC8c6",
    "outputId": "d4856bb5-4036-4e5c-a7f2-e659655280bc"
   },
   "outputs": [
    {
     "data": {
      "text/plain": [
       "<matplotlib.axes._subplots.AxesSubplot at 0x7fd639d931d0>"
      ]
     },
     "execution_count": 44,
     "metadata": {},
     "output_type": "execute_result"
    },
    {
     "data": {
      "image/png": "[encoded data removed]",
      "text/plain": [
       "<Figure size 432x288 with 1 Axes>"
      ]
     },
     "metadata": {
      "needs_background": "light"
     },
     "output_type": "display_data"
    }
   ],
   "source": [
    "sns.histplot(data=dfta.query('revenue>35000'), x='revenue')"
   ]
  },
  {
   "cell_type": "markdown",
   "metadata": {
    "id": "xj6LO25tDOl0"
   },
   "source": [
    "Можно отметить, что 123 пользователя (\"киты\") заплатили существенно больше (на 37000), чем остальные. Это может быть связано с покупкой некоего дорогостоящего артефакта либо с ошибкой в данных, т.к. смещение от основной массы фиксированное (в нашем случае может быть объяснено синтетическим происхождением датасета). Также размер этой группы совпадает с дельтой, на которую уменьшилась тестовая, что позволяет сделать вывод о том, что во второй группе \"киты отвалились\"."
   ]
  },
  {
   "cell_type": "code",
   "execution_count": 45,
   "metadata": {
    "colab": {
     "base_uri": "https://localhost:8080/",
     "height": 466
    },
    "id": "U6qA18V_EjUY",
    "outputId": "197b4db6-e941-43f8-d582-1e1d35aade1e"
   },
   "outputs": [
    {
     "data": {
      "text/plain": [
       "<matplotlib.axes._subplots.AxesSubplot at 0x7fd639c1d588>"
      ]
     },
     "execution_count": 45,
     "metadata": {},
     "output_type": "execute_result"
    },
    {
     "data": {
      "image/png": "[encoded data removed]",
      "text/plain": [
       "<Figure size 432x288 with 1 Axes>"
      ]
     },
     "metadata": {
      "needs_background": "light"
     },
     "output_type": "display_data"
    }
   ],
   "source": [
    "sns.histplot(data=dftb.query('revenue>0'), x='revenue')"
   ]
  },
  {
   "cell_type": "code",
   "execution_count": 46,
   "metadata": {
    "colab": {
     "base_uri": "https://localhost:8080/",
     "height": 428
    },
    "id": "EaMHqblOEjUZ",
    "outputId": "134b7442-e459-4bf4-ae0c-ff734189d34f"
   },
   "outputs": [
    {
     "data": {
      "text/plain": [
       "<matplotlib.axes._subplots.AxesSubplot at 0x7fd63a4766d8>"
      ]
     },
     "execution_count": 46,
     "metadata": {},
     "output_type": "execute_result"
    },
    {
     "data": {
      "image/png": "[encoded data removed]",
      "text/plain": [
       "<Figure size 432x288 with 1 Axes>"
      ]
     },
     "metadata": {
      "needs_background": "light"
     },
     "output_type": "display_data"
    }
   ],
   "source": [
    "sns.boxplot(data=dftb.query('revenue>0'), y='revenue')"
   ]
  },
  {
   "cell_type": "markdown",
   "metadata": {
    "id": "eqiU6vAcM6-g"
   },
   "source": [
    "Вторая группа однородная."
   ]
  },
  {
   "cell_type": "markdown",
   "metadata": {
    "id": "B5NBYRhHwcQn"
   },
   "source": [
    "## 2.2.&nbsp;Выбор и расчёт метрик"
   ]
  },
  {
   "cell_type": "markdown",
   "metadata": {
    "id": "U4vLs4zbHaI0"
   },
   "source": [
    "### 2.2.1.&nbsp;ARPU"
   ]
  },
  {
   "cell_type": "markdown",
   "metadata": {
    "id": "JNnvqTlHIyy9"
   },
   "source": [
    "Рассчитаем средний доход на пользователя."
   ]
  },
  {
   "cell_type": "code",
   "execution_count": 47,
   "metadata": {
    "colab": {
     "base_uri": "https://localhost:8080/"
    },
    "id": "En16p882Hst0",
    "outputId": "ea5caeb2-a28e-403b-dcd3-db83d172d701"
   },
   "outputs": [
    {
     "data": {
      "text/plain": [
       "25.413719736965806"
      ]
     },
     "execution_count": 47,
     "metadata": {},
     "output_type": "execute_result"
    }
   ],
   "source": [
    "dfta.revenue.mean()"
   ]
  },
  {
   "cell_type": "code",
   "execution_count": 48,
   "metadata": {
    "colab": {
     "base_uri": "https://localhost:8080/"
    },
    "id": "GmE0nbZQJU_8",
    "outputId": "bfdab546-e353-407e-8fc1-6aa6086aee9d"
   },
   "outputs": [
    {
     "data": {
      "text/plain": [
       "26.75128659327863"
      ]
     },
     "execution_count": 48,
     "metadata": {},
     "output_type": "execute_result"
    }
   ],
   "source": [
    "dftb.revenue.mean()"
   ]
  },
  {
   "cell_type": "code",
   "execution_count": 49,
   "metadata": {
    "id": "MJv-rGHYBpEW"
   },
   "outputs": [],
   "source": [
    "results['ARPU']['a'] = dfta.revenue.mean()\n",
    "results['ARPU']['b'] = dftb.revenue.mean()"
   ]
  },
  {
   "cell_type": "markdown",
   "metadata": {
    "id": "T7_SwRy8JYgM"
   },
   "source": [
    "ARPU увеличилось, но несущественно, далее проверим на статзначимость."
   ]
  },
  {
   "cell_type": "markdown",
   "metadata": {
    "id": "zps8Q1BEHtnk"
   },
   "source": [
    "### 2.2.2.&nbsp;ARPPU"
   ]
  },
  {
   "cell_type": "markdown",
   "metadata": {
    "id": "7cuAdVa_JnMC"
   },
   "source": [
    "Посчитаем отдельно для платящих пользователе."
   ]
  },
  {
   "cell_type": "code",
   "execution_count": 50,
   "metadata": {
    "colab": {
     "base_uri": "https://localhost:8080/"
    },
    "id": "APVkjFmnJmMQ",
    "outputId": "6e47ecaa-c919-4abe-c3ab-7e511ac8858f"
   },
   "outputs": [
    {
     "data": {
      "text/plain": [
       "2663.9984439834025"
      ]
     },
     "execution_count": 50,
     "metadata": {},
     "output_type": "execute_result"
    }
   ],
   "source": [
    "dfta.query('revenue>0').revenue.mean()"
   ]
  },
  {
   "cell_type": "code",
   "execution_count": 51,
   "metadata": {
    "colab": {
     "base_uri": "https://localhost:8080/"
    },
    "id": "jSkv6rgbJ1gT",
    "outputId": "3e133432-a823-4740-a8dd-1e0ecc36009c"
   },
   "outputs": [
    {
     "data": {
      "text/plain": [
       "3003.6581717451522"
      ]
     },
     "execution_count": 51,
     "metadata": {},
     "output_type": "execute_result"
    }
   ],
   "source": [
    "dftb.query('revenue>0').revenue.mean()"
   ]
  },
  {
   "cell_type": "code",
   "execution_count": 52,
   "metadata": {
    "id": "GOK83qZCB31f"
   },
   "outputs": [],
   "source": [
    "results['ARPPU']['a'] = dfta.query('revenue>0').revenue.mean()\n",
    "results['ARPPU']['b'] = dftb.query('revenue>0').revenue.mean()"
   ]
  },
  {
   "cell_type": "code",
   "execution_count": 53,
   "metadata": {
    "colab": {
     "base_uri": "https://localhost:8080/",
     "height": 112
    },
    "id": "R0TBmD1JB8IO",
    "outputId": "1e0b85d5-10e0-4ced-c237-325690e0ac62"
   },
   "outputs": [
    {
     "data": {
      "text/html": [
       "<div>\n",
       "<style scoped>\n",
       "    .dataframe tbody tr th:only-of-type {\n",
       "        vertical-align: middle;\n",
       "    }\n",
       "\n",
       "    .dataframe tbody tr th {\n",
       "        vertical-align: top;\n",
       "    }\n",
       "\n",
       "    .dataframe thead th {\n",
       "        text-align: right;\n",
       "    }\n",
       "</style>\n",
       "<table border=\"1\" class=\"dataframe\">\n",
       "  <thead>\n",
       "    <tr style=\"text-align: right;\">\n",
       "      <th></th>\n",
       "      <th>users</th>\n",
       "      <th>paid</th>\n",
       "      <th>CR</th>\n",
       "      <th>ARPU</th>\n",
       "      <th>ARPPU</th>\n",
       "      <th>sum</th>\n",
       "    </tr>\n",
       "  </thead>\n",
       "  <tbody>\n",
       "    <tr>\n",
       "      <th>a</th>\n",
       "      <td>202103</td>\n",
       "      <td>1928</td>\n",
       "      <td>NaN</td>\n",
       "      <td>25.4137</td>\n",
       "      <td>2664</td>\n",
       "      <td>NaN</td>\n",
       "    </tr>\n",
       "    <tr>\n",
       "      <th>b</th>\n",
       "      <td>202667</td>\n",
       "      <td>1805</td>\n",
       "      <td>NaN</td>\n",
       "      <td>26.7513</td>\n",
       "      <td>3003.66</td>\n",
       "      <td>NaN</td>\n",
       "    </tr>\n",
       "  </tbody>\n",
       "</table>\n",
       "</div>"
      ],
      "text/plain": [
       "    users  paid   CR     ARPU    ARPPU  sum\n",
       "a  202103  1928  NaN  25.4137     2664  NaN\n",
       "b  202667  1805  NaN  26.7513  3003.66  NaN"
      ]
     },
     "execution_count": 53,
     "metadata": {},
     "output_type": "execute_result"
    }
   ],
   "source": [
    "results"
   ]
  },
  {
   "cell_type": "markdown",
   "metadata": {
    "id": "c4fsgpl_J4aK"
   },
   "source": [
    "ARPPU также выросло."
   ]
  },
  {
   "cell_type": "markdown",
   "metadata": {
    "id": "CQuRraHmHy5C"
   },
   "source": [
    "### 2.2.3.&nbsp;CR"
   ]
  },
  {
   "cell_type": "markdown",
   "metadata": {
    "id": "J_jU58PaJ7sg"
   },
   "source": [
    "Посмотрим, что с конверсией."
   ]
  },
  {
   "cell_type": "code",
   "execution_count": 54,
   "metadata": {
    "colab": {
     "base_uri": "https://localhost:8080/"
    },
    "id": "-igIPjJPKTBD",
    "outputId": "b0858b39-5512-42dc-fc1a-5da3354e2992"
   },
   "outputs": [
    {
     "data": {
      "text/plain": [
       "0.9539690157988748"
      ]
     },
     "execution_count": 54,
     "metadata": {},
     "output_type": "execute_result"
    }
   ],
   "source": [
    "cr_a = len(dfta.query('revenue>0').index) / len(dfta.index) * 100\n",
    "cr_a"
   ]
  },
  {
   "cell_type": "code",
   "execution_count": 55,
   "metadata": {
    "colab": {
     "base_uri": "https://localhost:8080/"
    },
    "id": "b5649A-VLMhq",
    "outputId": "d4377aa5-3288-4a35-e430-d196b6df4eea"
   },
   "outputs": [
    {
     "data": {
      "text/plain": [
       "0.8906235351586593"
      ]
     },
     "execution_count": 55,
     "metadata": {},
     "output_type": "execute_result"
    }
   ],
   "source": [
    "cr_b = len(dftb.query('revenue>0').index) / len(dftb.index) * 100\n",
    "cr_b"
   ]
  },
  {
   "cell_type": "code",
   "execution_count": 56,
   "metadata": {
    "colab": {
     "base_uri": "https://localhost:8080/"
    },
    "id": "HBSteyNqLQ5K",
    "outputId": "8eca5ef2-6820-4771-833b-dd5b2659c0a4"
   },
   "outputs": [
    {
     "data": {
      "text/plain": [
       "-6.6402031503264904"
      ]
     },
     "execution_count": 56,
     "metadata": {},
     "output_type": "execute_result"
    }
   ],
   "source": [
    "(cr_b - cr_a) / cr_a * 100"
   ]
  },
  {
   "cell_type": "code",
   "execution_count": 57,
   "metadata": {
    "colab": {
     "base_uri": "https://localhost:8080/"
    },
    "id": "ey16L3nKLdk5",
    "outputId": "3729a694-0411-43c4-bcb6-cd74d54430cd"
   },
   "outputs": [
    {
     "data": {
      "text/plain": [
       "200175"
      ]
     },
     "execution_count": 57,
     "metadata": {},
     "output_type": "execute_result"
    }
   ],
   "source": [
    "len(dfta.query('revenue==0').index)"
   ]
  },
  {
   "cell_type": "code",
   "execution_count": 58,
   "metadata": {
    "colab": {
     "base_uri": "https://localhost:8080/"
    },
    "id": "QPvMBaMNLfeR",
    "outputId": "4600bb0c-3c50-4adc-819a-84f0a484460b"
   },
   "outputs": [
    {
     "data": {
      "text/plain": [
       "200862"
      ]
     },
     "execution_count": 58,
     "metadata": {},
     "output_type": "execute_result"
    }
   ],
   "source": [
    "len(dftb.query('revenue==0').index)"
   ]
  },
  {
   "cell_type": "code",
   "execution_count": 59,
   "metadata": {
    "id": "QAJd6zvuCV_O"
   },
   "outputs": [],
   "source": [
    "results['CR']['a'] = cr_a\n",
    "results['CR']['b'] = cr_b"
   ]
  },
  {
   "cell_type": "code",
   "execution_count": 60,
   "metadata": {
    "id": "WKWgegLUCcAW"
   },
   "outputs": [],
   "source": [
    "results['sum']['a'] = dfta.revenue.sum()\n",
    "results['sum']['b'] = dftb.revenue.sum()"
   ]
  },
  {
   "cell_type": "markdown",
   "metadata": {
    "id": "fdV7sIw8LYLX"
   },
   "source": [
    "Конверсия уменьшилась на 6.6%."
   ]
  },
  {
   "cell_type": "markdown",
   "metadata": {
    "id": "pK2rsppQwpSO"
   },
   "source": [
    "## 2.3.&nbsp;Проверка гипотез"
   ]
  },
  {
   "cell_type": "markdown",
   "metadata": {
    "id": "-OTd7H5Wn1zp"
   },
   "source": [
    "По гистограммам распределения в группах далеки от нормального, проверим тестами."
   ]
  },
  {
   "cell_type": "code",
   "execution_count": 61,
   "metadata": {
    "colab": {
     "base_uri": "https://localhost:8080/",
     "height": 81
    },
    "id": "nBMas_oCH3ax",
    "outputId": "d2547d2f-1bb8-46a7-8b8f-1af031ee6fd4"
   },
   "outputs": [
    {
     "data": {
      "text/html": [
       "<div>\n",
       "<style scoped>\n",
       "    .dataframe tbody tr th:only-of-type {\n",
       "        vertical-align: middle;\n",
       "    }\n",
       "\n",
       "    .dataframe tbody tr th {\n",
       "        vertical-align: top;\n",
       "    }\n",
       "\n",
       "    .dataframe thead th {\n",
       "        text-align: right;\n",
       "    }\n",
       "</style>\n",
       "<table border=\"1\" class=\"dataframe\">\n",
       "  <thead>\n",
       "    <tr style=\"text-align: right;\">\n",
       "      <th></th>\n",
       "      <th>W</th>\n",
       "      <th>pval</th>\n",
       "      <th>normal</th>\n",
       "    </tr>\n",
       "  </thead>\n",
       "  <tbody>\n",
       "    <tr>\n",
       "      <th>revenue</th>\n",
       "      <td>585152.731273</td>\n",
       "      <td>0.0</td>\n",
       "      <td>False</td>\n",
       "    </tr>\n",
       "  </tbody>\n",
       "</table>\n",
       "</div>"
      ],
      "text/plain": [
       "                     W  pval  normal\n",
       "revenue  585152.731273   0.0   False"
      ]
     },
     "execution_count": 61,
     "metadata": {},
     "output_type": "execute_result"
    }
   ],
   "source": [
    "pg.normality(dfta.revenue, method=\"normaltest\")"
   ]
  },
  {
   "cell_type": "code",
   "execution_count": 62,
   "metadata": {},
   "outputs": [
    {
     "data": {
      "text/html": [
       "<div>\n",
       "<style scoped>\n",
       "    .dataframe tbody tr th:only-of-type {\n",
       "        vertical-align: middle;\n",
       "    }\n",
       "\n",
       "    .dataframe tbody tr th {\n",
       "        vertical-align: top;\n",
       "    }\n",
       "\n",
       "    .dataframe thead th {\n",
       "        text-align: right;\n",
       "    }\n",
       "</style>\n",
       "<table border=\"1\" class=\"dataframe\">\n",
       "  <thead>\n",
       "    <tr style=\"text-align: right;\">\n",
       "      <th></th>\n",
       "      <th>W</th>\n",
       "      <th>pval</th>\n",
       "      <th>normal</th>\n",
       "    </tr>\n",
       "  </thead>\n",
       "  <tbody>\n",
       "    <tr>\n",
       "      <th>revenue</th>\n",
       "      <td>326622.395409</td>\n",
       "      <td>0.0</td>\n",
       "      <td>False</td>\n",
       "    </tr>\n",
       "  </tbody>\n",
       "</table>\n",
       "</div>"
      ],
      "text/plain": [
       "                     W  pval  normal\n",
       "revenue  326622.395409   0.0   False"
      ]
     },
     "execution_count": 62,
     "metadata": {},
     "output_type": "execute_result"
    }
   ],
   "source": [
    "pg.normality(dftb.revenue, method=\"normaltest\")"
   ]
  },
  {
   "cell_type": "markdown",
   "metadata": {
    "id": "nP9oigxVqgBh"
   },
   "source": [
    "Распределения не относятся к нормальному."
   ]
  },
  {
   "cell_type": "code",
   "execution_count": 63,
   "metadata": {
    "colab": {
     "base_uri": "https://localhost:8080/",
     "height": 81
    },
    "id": "R_oObZnwqx9i",
    "outputId": "8c920e7e-75e7-4cb4-bb37-99b5ebae1a2d"
   },
   "outputs": [
    {
     "data": {
      "text/html": [
       "<div>\n",
       "<style scoped>\n",
       "    .dataframe tbody tr th:only-of-type {\n",
       "        vertical-align: middle;\n",
       "    }\n",
       "\n",
       "    .dataframe tbody tr th {\n",
       "        vertical-align: top;\n",
       "    }\n",
       "\n",
       "    .dataframe thead th {\n",
       "        text-align: right;\n",
       "    }\n",
       "</style>\n",
       "<table border=\"1\" class=\"dataframe\">\n",
       "  <thead>\n",
       "    <tr style=\"text-align: right;\">\n",
       "      <th></th>\n",
       "      <th>W</th>\n",
       "      <th>pval</th>\n",
       "      <th>equal_var</th>\n",
       "    </tr>\n",
       "  </thead>\n",
       "  <tbody>\n",
       "    <tr>\n",
       "      <th>levene</th>\n",
       "      <td>0.389629</td>\n",
       "      <td>0.532495</td>\n",
       "      <td>True</td>\n",
       "    </tr>\n",
       "  </tbody>\n",
       "</table>\n",
       "</div>"
      ],
      "text/plain": [
       "               W      pval  equal_var\n",
       "levene  0.389629  0.532495       True"
      ]
     },
     "execution_count": 63,
     "metadata": {},
     "output_type": "execute_result"
    }
   ],
   "source": [
    "pg.homoscedasticity(data=dftest, dv='revenue', group='testgroup')"
   ]
  },
  {
   "cell_type": "code",
   "execution_count": 64,
   "metadata": {
    "colab": {
     "base_uri": "https://localhost:8080/",
     "height": 81
    },
    "id": "BIgjIo4FrViL",
    "outputId": "0f5d5213-548b-41a7-8076-bbd67aa01107"
   },
   "outputs": [
    {
     "data": {
      "text/html": [
       "<div>\n",
       "<style scoped>\n",
       "    .dataframe tbody tr th:only-of-type {\n",
       "        vertical-align: middle;\n",
       "    }\n",
       "\n",
       "    .dataframe tbody tr th {\n",
       "        vertical-align: top;\n",
       "    }\n",
       "\n",
       "    .dataframe thead th {\n",
       "        text-align: right;\n",
       "    }\n",
       "</style>\n",
       "<table border=\"1\" class=\"dataframe\">\n",
       "  <thead>\n",
       "    <tr style=\"text-align: right;\">\n",
       "      <th></th>\n",
       "      <th>T</th>\n",
       "      <th>pval</th>\n",
       "      <th>equal_var</th>\n",
       "    </tr>\n",
       "  </thead>\n",
       "  <tbody>\n",
       "    <tr>\n",
       "      <th>bartlett</th>\n",
       "      <td>228631.095336</td>\n",
       "      <td>0.0</td>\n",
       "      <td>False</td>\n",
       "    </tr>\n",
       "  </tbody>\n",
       "</table>\n",
       "</div>"
      ],
      "text/plain": [
       "                      T  pval  equal_var\n",
       "bartlett  228631.095336   0.0      False"
      ]
     },
     "execution_count": 64,
     "metadata": {},
     "output_type": "execute_result"
    }
   ],
   "source": [
    "pg.homoscedasticity(data=dftest, dv='revenue', group='testgroup', method='bartlett')"
   ]
  },
  {
   "cell_type": "markdown",
   "metadata": {
    "id": "OtOOXxa7rM2r"
   },
   "source": [
    "Тест Левена показывает равенство дисперсий, а Бартлетта нет. Учитывая это и большое количество наблюдений попробуем помимо непараметрического теста Манна-Уитни воспользоваться обычным тестом Стьюдента."
   ]
  },
  {
   "cell_type": "markdown",
   "metadata": {
    "id": "xPI9VotxH4XE"
   },
   "source": [
    "### 2.3.1.&nbsp;ARPU"
   ]
  },
  {
   "cell_type": "markdown",
   "metadata": {
    "id": "W-gZg4tussVu"
   },
   "source": [
    "Нулевая гипотеза - ARPU одинаковы, альтернативная - различие статистически значимо."
   ]
  },
  {
   "cell_type": "code",
   "execution_count": 65,
   "metadata": {
    "colab": {
     "base_uri": "https://localhost:8080/"
    },
    "id": "BHhbSZr_uj1m",
    "outputId": "b21587d2-db1d-4cba-8550-4e6d0ab1a178"
   },
   "outputs": [
    {
     "data": {
      "text/plain": [
       "MannwhitneyuResult(statistic=20491259376.0, pvalue=0.06269701316074398)"
      ]
     },
     "execution_count": 65,
     "metadata": {},
     "output_type": "execute_result"
    }
   ],
   "source": [
    "sps.mannwhitneyu(dfta.revenue.values, dftb.revenue.values)"
   ]
  },
  {
   "cell_type": "code",
   "execution_count": 66,
   "metadata": {
    "colab": {
     "base_uri": "https://localhost:8080/",
     "height": 81
    },
    "id": "DzdeIAO-H4XF",
    "outputId": "4e3d341a-2ab1-4d33-bf62-81a113f45da2"
   },
   "outputs": [
    {
     "data": {
      "text/html": [
       "<div>\n",
       "<style scoped>\n",
       "    .dataframe tbody tr th:only-of-type {\n",
       "        vertical-align: middle;\n",
       "    }\n",
       "\n",
       "    .dataframe tbody tr th {\n",
       "        vertical-align: top;\n",
       "    }\n",
       "\n",
       "    .dataframe thead th {\n",
       "        text-align: right;\n",
       "    }\n",
       "</style>\n",
       "<table border=\"1\" class=\"dataframe\">\n",
       "  <thead>\n",
       "    <tr style=\"text-align: right;\">\n",
       "      <th></th>\n",
       "      <th>T</th>\n",
       "      <th>dof</th>\n",
       "      <th>alternative</th>\n",
       "      <th>p-val</th>\n",
       "      <th>CI95%</th>\n",
       "      <th>cohen-d</th>\n",
       "      <th>BF10</th>\n",
       "      <th>power</th>\n",
       "    </tr>\n",
       "  </thead>\n",
       "  <tbody>\n",
       "    <tr>\n",
       "      <th>T-test</th>\n",
       "      <td>-0.623488</td>\n",
       "      <td>240991.130782</td>\n",
       "      <td>two-sided</td>\n",
       "      <td>0.532965</td>\n",
       "      <td>[-5.54, 2.87]</td>\n",
       "      <td>0.001962</td>\n",
       "      <td>0.004</td>\n",
       "      <td>0.095694</td>\n",
       "    </tr>\n",
       "  </tbody>\n",
       "</table>\n",
       "</div>"
      ],
      "text/plain": [
       "               T            dof alternative     p-val          CI95%  \\\n",
       "T-test -0.623488  240991.130782   two-sided  0.532965  [-5.54, 2.87]   \n",
       "\n",
       "         cohen-d   BF10     power  \n",
       "T-test  0.001962  0.004  0.095694  "
      ]
     },
     "execution_count": 66,
     "metadata": {},
     "output_type": "execute_result"
    }
   ],
   "source": [
    "pg.ttest(dfta.revenue.values, dftb.revenue.values)"
   ]
  },
  {
   "cell_type": "markdown",
   "metadata": {
    "id": "_qZUuGbks1sI"
   },
   "source": [
    "Тест Манна-Уитни не прокрасился, хотя и был близок к критическому значению. Тест Стьюдента также не показал статистической значимости."
   ]
  },
  {
   "cell_type": "markdown",
   "metadata": {
    "id": "a9YT-DB_H4XG"
   },
   "source": [
    "### 2.3.2.&nbsp;ARPPU"
   ]
  },
  {
   "cell_type": "code",
   "execution_count": 67,
   "metadata": {
    "colab": {
     "base_uri": "https://localhost:8080/"
    },
    "id": "Cu-VcYUox7iS",
    "outputId": "b2e42528-ebbe-4f4f-9460-0eb2c88acd0e"
   },
   "outputs": [
    {
     "data": {
      "text/plain": [
       "MannwhitneyuResult(statistic=222015.0, pvalue=0.0)"
      ]
     },
     "execution_count": 67,
     "metadata": {},
     "output_type": "execute_result"
    }
   ],
   "source": [
    "sps.mannwhitneyu(dfta.query('revenue>0').revenue.values, dftb.query('revenue>0').revenue.values)"
   ]
  },
  {
   "cell_type": "code",
   "execution_count": 68,
   "metadata": {
    "colab": {
     "base_uri": "https://localhost:8080/",
     "height": 81
    },
    "id": "5bOmVLL2x7iT",
    "outputId": "452068db-5fcf-4333-c1d8-d283ba0b5870"
   },
   "outputs": [
    {
     "data": {
      "text/html": [
       "<div>\n",
       "<style scoped>\n",
       "    .dataframe tbody tr th:only-of-type {\n",
       "        vertical-align: middle;\n",
       "    }\n",
       "\n",
       "    .dataframe tbody tr th {\n",
       "        vertical-align: top;\n",
       "    }\n",
       "\n",
       "    .dataframe thead th {\n",
       "        text-align: right;\n",
       "    }\n",
       "</style>\n",
       "<table border=\"1\" class=\"dataframe\">\n",
       "  <thead>\n",
       "    <tr style=\"text-align: right;\">\n",
       "      <th></th>\n",
       "      <th>T</th>\n",
       "      <th>dof</th>\n",
       "      <th>alternative</th>\n",
       "      <th>p-val</th>\n",
       "      <th>CI95%</th>\n",
       "      <th>cohen-d</th>\n",
       "      <th>BF10</th>\n",
       "      <th>power</th>\n",
       "    </tr>\n",
       "  </thead>\n",
       "  <tbody>\n",
       "    <tr>\n",
       "      <th>T-test</th>\n",
       "      <td>-1.64463</td>\n",
       "      <td>1943.481522</td>\n",
       "      <td>two-sided</td>\n",
       "      <td>0.100208</td>\n",
       "      <td>[-744.7, 65.38]</td>\n",
       "      <td>0.052132</td>\n",
       "      <td>0.142</td>\n",
       "      <td>0.356381</td>\n",
       "    </tr>\n",
       "  </tbody>\n",
       "</table>\n",
       "</div>"
      ],
      "text/plain": [
       "              T          dof alternative     p-val            CI95%   cohen-d  \\\n",
       "T-test -1.64463  1943.481522   two-sided  0.100208  [-744.7, 65.38]  0.052132   \n",
       "\n",
       "         BF10     power  \n",
       "T-test  0.142  0.356381  "
      ]
     },
     "execution_count": 68,
     "metadata": {},
     "output_type": "execute_result"
    }
   ],
   "source": [
    "pg.ttest(dfta.query('revenue>0').revenue.values, dftb.query('revenue>0').revenue.values)"
   ]
  },
  {
   "cell_type": "markdown",
   "metadata": {
    "id": "6nqkUeI6yT8I"
   },
   "source": [
    "Тест Манна-Уитни показал, что различие в ARPPU (фактически в средних значениях, но они всё равно идут в формулу ARPPU) статистически значимо. Тест Стьюдента дал отрицательный результат, но величина статистики близка к критическому уровню."
   ]
  },
  {
   "cell_type": "markdown",
   "metadata": {
    "id": "JqU6IzJg4eDN"
   },
   "source": [
    "### 2.3.3.&nbsp;CR"
   ]
  },
  {
   "cell_type": "markdown",
   "metadata": {
    "id": "aidrwB-t4i5N"
   },
   "source": [
    "Значимость различий в конверсии проверим с использованием критерия Хи-квадрат. Для этого добавим столбец платил пользователь или нет."
   ]
  },
  {
   "cell_type": "code",
   "execution_count": 69,
   "metadata": {
    "colab": {
     "base_uri": "https://localhost:8080/",
     "height": 206
    },
    "id": "mErCP-b44vx-",
    "outputId": "98a6df7f-b841-4905-b27b-9f3b7f220ad6"
   },
   "outputs": [
    {
     "data": {
      "text/html": [
       "<div>\n",
       "<style scoped>\n",
       "    .dataframe tbody tr th:only-of-type {\n",
       "        vertical-align: middle;\n",
       "    }\n",
       "\n",
       "    .dataframe tbody tr th {\n",
       "        vertical-align: top;\n",
       "    }\n",
       "\n",
       "    .dataframe thead th {\n",
       "        text-align: right;\n",
       "    }\n",
       "</style>\n",
       "<table border=\"1\" class=\"dataframe\">\n",
       "  <thead>\n",
       "    <tr style=\"text-align: right;\">\n",
       "      <th></th>\n",
       "      <th>user_id</th>\n",
       "      <th>revenue</th>\n",
       "      <th>testgroup</th>\n",
       "      <th>paid</th>\n",
       "    </tr>\n",
       "  </thead>\n",
       "  <tbody>\n",
       "    <tr>\n",
       "      <th>0</th>\n",
       "      <td>1</td>\n",
       "      <td>0</td>\n",
       "      <td>b</td>\n",
       "      <td>no</td>\n",
       "    </tr>\n",
       "    <tr>\n",
       "      <th>1</th>\n",
       "      <td>2</td>\n",
       "      <td>0</td>\n",
       "      <td>a</td>\n",
       "      <td>no</td>\n",
       "    </tr>\n",
       "    <tr>\n",
       "      <th>2</th>\n",
       "      <td>3</td>\n",
       "      <td>0</td>\n",
       "      <td>a</td>\n",
       "      <td>no</td>\n",
       "    </tr>\n",
       "    <tr>\n",
       "      <th>3</th>\n",
       "      <td>4</td>\n",
       "      <td>0</td>\n",
       "      <td>b</td>\n",
       "      <td>no</td>\n",
       "    </tr>\n",
       "    <tr>\n",
       "      <th>4</th>\n",
       "      <td>5</td>\n",
       "      <td>0</td>\n",
       "      <td>b</td>\n",
       "      <td>no</td>\n",
       "    </tr>\n",
       "  </tbody>\n",
       "</table>\n",
       "</div>"
      ],
      "text/plain": [
       "   user_id  revenue testgroup paid\n",
       "0        1        0         b   no\n",
       "1        2        0         a   no\n",
       "2        3        0         a   no\n",
       "3        4        0         b   no\n",
       "4        5        0         b   no"
      ]
     },
     "execution_count": 69,
     "metadata": {},
     "output_type": "execute_result"
    }
   ],
   "source": [
    "dftest['paid'] = np.where(dftest.revenue>0, 'yes', 'no')\n",
    "dftest.head()"
   ]
  },
  {
   "cell_type": "code",
   "execution_count": 70,
   "metadata": {
    "id": "xuwHTaoF7Hq4"
   },
   "outputs": [],
   "source": [
    "expected, observed, stats = pg.chi2_independence(dftest, x='testgroup', y='paid')"
   ]
  },
  {
   "cell_type": "code",
   "execution_count": 71,
   "metadata": {
    "colab": {
     "base_uri": "https://localhost:8080/",
     "height": 143
    },
    "id": "_m6q7X0Z7e-4",
    "outputId": "52c79903-9a9d-4dff-b09a-aef486fadac9"
   },
   "outputs": [
    {
     "data": {
      "text/html": [
       "<div>\n",
       "<style scoped>\n",
       "    .dataframe tbody tr th:only-of-type {\n",
       "        vertical-align: middle;\n",
       "    }\n",
       "\n",
       "    .dataframe tbody tr th {\n",
       "        vertical-align: top;\n",
       "    }\n",
       "\n",
       "    .dataframe thead th {\n",
       "        text-align: right;\n",
       "    }\n",
       "</style>\n",
       "<table border=\"1\" class=\"dataframe\">\n",
       "  <thead>\n",
       "    <tr style=\"text-align: right;\">\n",
       "      <th>paid</th>\n",
       "      <th>no</th>\n",
       "      <th>yes</th>\n",
       "    </tr>\n",
       "    <tr>\n",
       "      <th>testgroup</th>\n",
       "      <th></th>\n",
       "      <th></th>\n",
       "    </tr>\n",
       "  </thead>\n",
       "  <tbody>\n",
       "    <tr>\n",
       "      <th>a</th>\n",
       "      <td>200239.100751</td>\n",
       "      <td>1863.899249</td>\n",
       "    </tr>\n",
       "    <tr>\n",
       "      <th>b</th>\n",
       "      <td>200797.899249</td>\n",
       "      <td>1869.100751</td>\n",
       "    </tr>\n",
       "  </tbody>\n",
       "</table>\n",
       "</div>"
      ],
      "text/plain": [
       "paid                  no          yes\n",
       "testgroup                            \n",
       "a          200239.100751  1863.899249\n",
       "b          200797.899249  1869.100751"
      ]
     },
     "execution_count": 71,
     "metadata": {},
     "output_type": "execute_result"
    }
   ],
   "source": [
    "expected"
   ]
  },
  {
   "cell_type": "code",
   "execution_count": 72,
   "metadata": {
    "colab": {
     "base_uri": "https://localhost:8080/",
     "height": 143
    },
    "id": "UqbaAbUs7guv",
    "outputId": "79a42ad4-1e3a-44d7-aab8-89d45f61b2e3"
   },
   "outputs": [
    {
     "data": {
      "text/html": [
       "<div>\n",
       "<style scoped>\n",
       "    .dataframe tbody tr th:only-of-type {\n",
       "        vertical-align: middle;\n",
       "    }\n",
       "\n",
       "    .dataframe tbody tr th {\n",
       "        vertical-align: top;\n",
       "    }\n",
       "\n",
       "    .dataframe thead th {\n",
       "        text-align: right;\n",
       "    }\n",
       "</style>\n",
       "<table border=\"1\" class=\"dataframe\">\n",
       "  <thead>\n",
       "    <tr style=\"text-align: right;\">\n",
       "      <th>paid</th>\n",
       "      <th>no</th>\n",
       "      <th>yes</th>\n",
       "    </tr>\n",
       "    <tr>\n",
       "      <th>testgroup</th>\n",
       "      <th></th>\n",
       "      <th></th>\n",
       "    </tr>\n",
       "  </thead>\n",
       "  <tbody>\n",
       "    <tr>\n",
       "      <th>a</th>\n",
       "      <td>200175.5</td>\n",
       "      <td>1927.5</td>\n",
       "    </tr>\n",
       "    <tr>\n",
       "      <th>b</th>\n",
       "      <td>200861.5</td>\n",
       "      <td>1805.5</td>\n",
       "    </tr>\n",
       "  </tbody>\n",
       "</table>\n",
       "</div>"
      ],
      "text/plain": [
       "paid             no     yes\n",
       "testgroup                  \n",
       "a          200175.5  1927.5\n",
       "b          200861.5  1805.5"
      ]
     },
     "execution_count": 72,
     "metadata": {},
     "output_type": "execute_result"
    }
   ],
   "source": [
    "observed"
   ]
  },
  {
   "cell_type": "code",
   "execution_count": 73,
   "metadata": {
    "colab": {
     "base_uri": "https://localhost:8080/",
     "height": 238
    },
    "id": "ky0OpeTS7jpJ",
    "outputId": "35536024-dfb9-47f0-fca1-dd52d6e79071"
   },
   "outputs": [
    {
     "data": {
      "text/html": [
       "<div>\n",
       "<style scoped>\n",
       "    .dataframe tbody tr th:only-of-type {\n",
       "        vertical-align: middle;\n",
       "    }\n",
       "\n",
       "    .dataframe tbody tr th {\n",
       "        vertical-align: top;\n",
       "    }\n",
       "\n",
       "    .dataframe thead th {\n",
       "        text-align: right;\n",
       "    }\n",
       "</style>\n",
       "<table border=\"1\" class=\"dataframe\">\n",
       "  <thead>\n",
       "    <tr style=\"text-align: right;\">\n",
       "      <th></th>\n",
       "      <th>test</th>\n",
       "      <th>lambda</th>\n",
       "      <th>chi2</th>\n",
       "      <th>dof</th>\n",
       "      <th>pval</th>\n",
       "      <th>cramer</th>\n",
       "      <th>power</th>\n",
       "    </tr>\n",
       "  </thead>\n",
       "  <tbody>\n",
       "    <tr>\n",
       "      <th>0</th>\n",
       "      <td>pearson</td>\n",
       "      <td>1.000000</td>\n",
       "      <td>4.374730</td>\n",
       "      <td>1.0</td>\n",
       "      <td>0.036476</td>\n",
       "      <td>0.003288</td>\n",
       "      <td>0.552384</td>\n",
       "    </tr>\n",
       "    <tr>\n",
       "      <th>1</th>\n",
       "      <td>cressie-read</td>\n",
       "      <td>0.666667</td>\n",
       "      <td>4.374870</td>\n",
       "      <td>1.0</td>\n",
       "      <td>0.036473</td>\n",
       "      <td>0.003288</td>\n",
       "      <td>0.552397</td>\n",
       "    </tr>\n",
       "    <tr>\n",
       "      <th>2</th>\n",
       "      <td>log-likelihood</td>\n",
       "      <td>0.000000</td>\n",
       "      <td>4.375431</td>\n",
       "      <td>1.0</td>\n",
       "      <td>0.036461</td>\n",
       "      <td>0.003288</td>\n",
       "      <td>0.552450</td>\n",
       "    </tr>\n",
       "    <tr>\n",
       "      <th>3</th>\n",
       "      <td>freeman-tukey</td>\n",
       "      <td>-0.500000</td>\n",
       "      <td>4.376097</td>\n",
       "      <td>1.0</td>\n",
       "      <td>0.036446</td>\n",
       "      <td>0.003288</td>\n",
       "      <td>0.552513</td>\n",
       "    </tr>\n",
       "    <tr>\n",
       "      <th>4</th>\n",
       "      <td>mod-log-likelihood</td>\n",
       "      <td>-1.000000</td>\n",
       "      <td>4.376973</td>\n",
       "      <td>1.0</td>\n",
       "      <td>0.036428</td>\n",
       "      <td>0.003288</td>\n",
       "      <td>0.552596</td>\n",
       "    </tr>\n",
       "    <tr>\n",
       "      <th>5</th>\n",
       "      <td>neyman</td>\n",
       "      <td>-2.000000</td>\n",
       "      <td>4.379356</td>\n",
       "      <td>1.0</td>\n",
       "      <td>0.036377</td>\n",
       "      <td>0.003289</td>\n",
       "      <td>0.552821</td>\n",
       "    </tr>\n",
       "  </tbody>\n",
       "</table>\n",
       "</div>"
      ],
      "text/plain": [
       "                 test    lambda      chi2  dof      pval    cramer     power\n",
       "0             pearson  1.000000  4.374730  1.0  0.036476  0.003288  0.552384\n",
       "1        cressie-read  0.666667  4.374870  1.0  0.036473  0.003288  0.552397\n",
       "2      log-likelihood  0.000000  4.375431  1.0  0.036461  0.003288  0.552450\n",
       "3       freeman-tukey -0.500000  4.376097  1.0  0.036446  0.003288  0.552513\n",
       "4  mod-log-likelihood -1.000000  4.376973  1.0  0.036428  0.003288  0.552596\n",
       "5              neyman -2.000000  4.379356  1.0  0.036377  0.003289  0.552821"
      ]
     },
     "execution_count": 73,
     "metadata": {},
     "output_type": "execute_result"
    }
   ],
   "source": [
    "stats"
   ]
  },
  {
   "cell_type": "markdown",
   "metadata": {
    "id": "euf-qOdz7-jf"
   },
   "source": [
    "Различия в конверсии носят статистически значимый характер."
   ]
  },
  {
   "cell_type": "markdown",
   "metadata": {
    "id": "i-gqQhVnwsMm"
   },
   "source": [
    "## 2.4.&nbsp;Выводы"
   ]
  },
  {
   "cell_type": "code",
   "execution_count": 74,
   "metadata": {
    "colab": {
     "base_uri": "https://localhost:8080/"
    },
    "id": "XSVEvaDbFYeo",
    "outputId": "6cd91973-f49d-43e2-bd04-67b0d6b05eea"
   },
   "outputs": [
    {
     "name": "stdout",
     "output_type": "stream",
     "text": [
      "Paid users percent change: -6.4\n",
      "CR percent change: -6.6\n",
      "ARPU percent change: 5.3\n",
      "ARPPU percent change: 12.7\n",
      "Total revenue percent change: 5.6\n"
     ]
    }
   ],
   "source": [
    "print('Paid users percent change:', round((results['paid']['b'] - results['paid']['a']) / results['paid']['a'] * 100, 1))\n",
    "print('CR percent change:', round((results['CR']['b'] - results['CR']['a']) / results['CR']['a'] * 100, 1))\n",
    "print('ARPU percent change:', round((results['ARPU']['b'] - results['ARPU']['a']) / results['ARPU']['a'] * 100, 1))\n",
    "print('ARPPU percent change:', round((results['ARPPU']['b'] - results['ARPPU']['a']) / results['ARPPU']['a'] * 100, 1))\n",
    "print('Total revenue percent change:', round((results['sum']['b'] - results['sum']['a']) / results['sum']['a'] * 100, 1))"
   ]
  },
  {
   "cell_type": "code",
   "execution_count": 75,
   "metadata": {
    "colab": {
     "base_uri": "https://localhost:8080/",
     "height": 129
    },
    "id": "svPQNp8ui_eN",
    "outputId": "3d3ddae7-d2a9-4646-d113-8e0f9c5f2647"
   },
   "outputs": [
    {
     "data": {
      "text/html": [
       "<style  type=\"text/css\" >\n",
       "</style><table id=\"T_7e2f6ee2_45d0_11ee_bdbb_96000040dfb6\" ><caption>Метрики контрольной и тестовой групп</caption><thead>    <tr>        <th class=\"blank level0\" ></th>        <th class=\"col_heading level0 col0\" >users</th>        <th class=\"col_heading level0 col1\" >paid</th>        <th class=\"col_heading level0 col2\" >CR</th>        <th class=\"col_heading level0 col3\" >ARPU</th>        <th class=\"col_heading level0 col4\" >ARPPU</th>        <th class=\"col_heading level0 col5\" >sum</th>    </tr></thead><tbody>\n",
       "                <tr>\n",
       "                        <th id=\"T_7e2f6ee2_45d0_11ee_bdbb_96000040dfb6level0_row0\" class=\"row_heading level0 row0\" >a</th>\n",
       "                        <td id=\"T_7e2f6ee2_45d0_11ee_bdbb_96000040dfb6row0_col0\" class=\"data row0 col0\" >202103</td>\n",
       "                        <td id=\"T_7e2f6ee2_45d0_11ee_bdbb_96000040dfb6row0_col1\" class=\"data row0 col1\" >1928</td>\n",
       "                        <td id=\"T_7e2f6ee2_45d0_11ee_bdbb_96000040dfb6row0_col2\" class=\"data row0 col2\" >0.95</td>\n",
       "                        <td id=\"T_7e2f6ee2_45d0_11ee_bdbb_96000040dfb6row0_col3\" class=\"data row0 col3\" >25.41</td>\n",
       "                        <td id=\"T_7e2f6ee2_45d0_11ee_bdbb_96000040dfb6row0_col4\" class=\"data row0 col4\" >2664.00</td>\n",
       "                        <td id=\"T_7e2f6ee2_45d0_11ee_bdbb_96000040dfb6row0_col5\" class=\"data row0 col5\" >5136189</td>\n",
       "            </tr>\n",
       "            <tr>\n",
       "                        <th id=\"T_7e2f6ee2_45d0_11ee_bdbb_96000040dfb6level0_row1\" class=\"row_heading level0 row1\" >b</th>\n",
       "                        <td id=\"T_7e2f6ee2_45d0_11ee_bdbb_96000040dfb6row1_col0\" class=\"data row1 col0\" >202667</td>\n",
       "                        <td id=\"T_7e2f6ee2_45d0_11ee_bdbb_96000040dfb6row1_col1\" class=\"data row1 col1\" >1805</td>\n",
       "                        <td id=\"T_7e2f6ee2_45d0_11ee_bdbb_96000040dfb6row1_col2\" class=\"data row1 col2\" >0.89</td>\n",
       "                        <td id=\"T_7e2f6ee2_45d0_11ee_bdbb_96000040dfb6row1_col3\" class=\"data row1 col3\" >26.75</td>\n",
       "                        <td id=\"T_7e2f6ee2_45d0_11ee_bdbb_96000040dfb6row1_col4\" class=\"data row1 col4\" >3003.66</td>\n",
       "                        <td id=\"T_7e2f6ee2_45d0_11ee_bdbb_96000040dfb6row1_col5\" class=\"data row1 col5\" >5421603</td>\n",
       "            </tr>\n",
       "    </tbody></table>"
      ],
      "text/plain": [
       "<pandas.io.formats.style.Styler at 0x7fd638514828>"
      ]
     },
     "execution_count": 75,
     "metadata": {},
     "output_type": "execute_result"
    }
   ],
   "source": [
    "results.style.set_caption('Метрики контрольной и тестовой групп').format(\"{:.2f}\", subset=['CR', 'ARPU', 'ARPPU'])"
   ]
  },
  {
   "cell_type": "markdown",
   "metadata": {
    "id": "GwOrkLfID0y1"
   },
   "source": [
    "Несмотря на то, что количество платящих пользователей и конверсия снизились (на 6.4 и 6.6 процентов соответственно), метрики прибыли выросли: ARPU на 5.3%, ARPPU на 12.7%, суммарный доход на 5.6%. Изменения CR и ARPPU носят статистически значимый характер.\n",
    "\n",
    "В то же время стоит отметить, что группа в 123 пользователя совершавших большие покупки в контрольной группе исчезла из тестовой. Для оценки значимости этого необходимы дополнительные данные о целевых показателях и стратегии работы с аудиторией.\n",
    "\n",
    "В целом считаю допустимым распространить новые акционные предложения на всех пользователей, уделив отдельное внимание \"китам\"."
   ]
  },
  {
   "cell_type": "markdown",
   "metadata": {
    "id": "QmNI_QDnBD9b"
   },
   "source": [
    "# 3.&nbsp;Выбор метрик для оценки игровых событий"
   ]
  },
  {
   "cell_type": "markdown",
   "metadata": {
    "id": "YsRQ7AEyIpKJ"
   },
   "source": [
    "Первое, с чего бы я начал: сколько игроков получили награду (выполнили все требования события) - конверсия. Также можно посчитать конверсию из начавших участвовавших в событии в успешно завершивших его. Это позволит оценить, насколько наше событие привлекло игроков, было ли оно массовым или прошло незамеченным.\n",
    "\n",
    "Затем можно посчитать общие показатели пользовательской активности: installs, retention, churn rate, DAU и т.д. Это даст оценку того, как событийная активность сказалась на общем притоке/оттоке пользователей, привлечены ли новые, вернулись ли старые.\n",
    "\n",
    "С точки зрения геймдизайна было бы полезно проанализировать статистику по уровням и времени их прохождения, повлияло ли введение дополнительных наград на метрики прохождения уровней.\n",
    "\n",
    "Наконец прибыль: вырос ли общий доход в результате события; ARPU, ARPPU - общие и с разбивкой на когорты, например участвовавшие в ивенте и остальные."
   ]
  },
  {
   "cell_type": "markdown",
   "metadata": {
    "id": "VCA5ZqIZK_Og"
   },
   "source": [
    "Если усложнить механику и откатывать игрока назад на несколько уровней в случае неудачи, то метрики останутся в основном те же самые. Но необходимо будет внимательно контролировать вовлечённость игроков (не упала ли), churn rate, статистику прохождения уровней (количество попыток, время прохождения и т.д.). Также можно отслеживать показатели прибыли: будет ли усложнение игры стимулировать пользователей покупать \"плюшки\" для облегчения или нет."
   ]
  }
 ],
 "metadata": {
  "colab": {
   "provenance": [],
   "toc_visible": true
  },
  "kernelspec": {
   "display_name": "Python 3",
   "language": "python",
   "name": "python3"
  },
  "language_info": {
   "codemirror_mode": {
    "name": "ipython",
    "version": 3
   },
   "file_extension": ".py",
   "mimetype": "text/x-python",
   "name": "python",
   "nbconvert_exporter": "python",
   "pygments_lexer": "ipython3",
   "version": "3.7.3"
  }
 },
 "nbformat": 4,
 "nbformat_minor": 1
}
